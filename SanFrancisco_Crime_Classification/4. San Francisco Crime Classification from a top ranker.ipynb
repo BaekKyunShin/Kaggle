{
 "cells": [
  {
   "cell_type": "markdown",
   "metadata": {},
   "source": [
    "# San Francisco Crime Classification from a top ranker"
   ]
  },
  {
   "cell_type": "markdown",
   "metadata": {},
   "source": [
    "본 notebook은 Yannis Pappas 커널을 참고하여 작성했습니다. (https://www.kaggle.com/yannisp/sf-crime-analysis-prediction)"
   ]
  },
  {
   "cell_type": "markdown",
   "metadata": {},
   "source": [
    "## Data Science Life Cycle\n",
    "Data Science Life Cycle은 아래의 단계로 구성되어 있으며, 본 경진 대회에서도 아래의 전체 Life Cycle대로 진행할 예정입니다.\n",
    "1. 데이터 품질을 향상시키기 위한 Data Wrangling\n",
    "2. 탐색적 데이터 분석 (EDA)\n",
    "3. 현재 Feature들을 기반으로 추가적인 Feature들을 만드는 Feature Engineering\n",
    "4. (필요 시) 데이터 정규화 및 변환\n",
    "5. 모델 성능 측정을 위한 훈련 데이터, 테스트 데이터 생성 및 파라미터 조정\n",
    "6. 모델 선택 및 평가, 결과 예측을 위한 모델 생성"
   ]
  },
  {
   "cell_type": "code",
   "execution_count": 1,
   "metadata": {
    "scrolled": false
   },
   "outputs": [],
   "source": [
    "import pandas as pd\n",
    "from shapely.geometry import  Point\n",
    "import geopandas as gpd\n",
    "import matplotlib.pyplot as plt\n",
    "import numpy as np\n",
    "from sklearn.impute import SimpleImputer\n",
    "from sklearn.preprocessing import LabelEncoder\n",
    "from sklearn.model_selection import train_test_split\n",
    "import seaborn as sns\n",
    "from matplotlib import cm\n",
    "import urllib.request\n",
    "import shutil\n",
    "import zipfile\n",
    "import os\n",
    "import re\n",
    "import contextily as ctx\n",
    "import geoplot as gplt\n",
    "import lightgbm as lgb\n",
    "import eli5\n",
    "from eli5.sklearn import PermutationImportance\n",
    "from lightgbm import LGBMClassifier\n",
    "from matplotlib import pyplot as plt\n",
    "from pdpbox import pdp, get_dataset, info_plots\n",
    "import shap"
   ]
  },
  {
   "cell_type": "code",
   "execution_count": 2,
   "metadata": {},
   "outputs": [],
   "source": [
    "train = pd.read_csv('data/train.csv', parse_dates=['Dates'])\n",
    "test = pd.read_csv('data/test.csv', parse_dates=['Dates'], index_col='Id')"
   ]
  },
  {
   "cell_type": "code",
   "execution_count": 3,
   "metadata": {},
   "outputs": [
    {
     "data": {
      "text/plain": [
       "count                  878049\n",
       "unique                 389257\n",
       "top       2011-01-01 00:01:00\n",
       "freq                      185\n",
       "first     2003-01-06 00:01:00\n",
       "last      2015-05-13 23:53:00\n",
       "Name: Dates, dtype: object"
      ]
     },
     "execution_count": 3,
     "metadata": {},
     "output_type": "execute_result"
    }
   ],
   "source": [
    "train.Dates.describe()"
   ]
  },
  {
   "cell_type": "code",
   "execution_count": 4,
   "metadata": {
    "scrolled": true
   },
   "outputs": [
    {
     "data": {
      "text/plain": [
       "(878049, 9)"
      ]
     },
     "execution_count": 4,
     "metadata": {},
     "output_type": "execute_result"
    }
   ],
   "source": [
    "train.shape"
   ]
  },
  {
   "cell_type": "markdown",
   "metadata": {},
   "source": [
    "훈련 데이터는 2003.1.6.부터 2015.5.13.까지의 범죄를 담고 있으며, 총 9개의 features가 있습니다."
   ]
  },
  {
   "cell_type": "code",
   "execution_count": 5,
   "metadata": {
    "scrolled": true
   },
   "outputs": [
    {
     "data": {
      "text/html": [
       "<div>\n",
       "<style scoped>\n",
       "    .dataframe tbody tr th:only-of-type {\n",
       "        vertical-align: middle;\n",
       "    }\n",
       "\n",
       "    .dataframe tbody tr th {\n",
       "        vertical-align: top;\n",
       "    }\n",
       "\n",
       "    .dataframe thead th {\n",
       "        text-align: right;\n",
       "    }\n",
       "</style>\n",
       "<table border=\"1\" class=\"dataframe\">\n",
       "  <thead>\n",
       "    <tr style=\"text-align: right;\">\n",
       "      <th></th>\n",
       "      <th>Dates</th>\n",
       "      <th>Category</th>\n",
       "      <th>Descript</th>\n",
       "      <th>DayOfWeek</th>\n",
       "      <th>PdDistrict</th>\n",
       "      <th>Resolution</th>\n",
       "      <th>Address</th>\n",
       "      <th>X</th>\n",
       "      <th>Y</th>\n",
       "    </tr>\n",
       "  </thead>\n",
       "  <tbody>\n",
       "    <tr>\n",
       "      <td>0</td>\n",
       "      <td>2015-05-13 23:53:00</td>\n",
       "      <td>WARRANTS</td>\n",
       "      <td>WARRANT ARREST</td>\n",
       "      <td>Wednesday</td>\n",
       "      <td>NORTHERN</td>\n",
       "      <td>ARREST, BOOKED</td>\n",
       "      <td>OAK ST / LAGUNA ST</td>\n",
       "      <td>-122.425892</td>\n",
       "      <td>37.774599</td>\n",
       "    </tr>\n",
       "    <tr>\n",
       "      <td>1</td>\n",
       "      <td>2015-05-13 23:53:00</td>\n",
       "      <td>OTHER OFFENSES</td>\n",
       "      <td>TRAFFIC VIOLATION ARREST</td>\n",
       "      <td>Wednesday</td>\n",
       "      <td>NORTHERN</td>\n",
       "      <td>ARREST, BOOKED</td>\n",
       "      <td>OAK ST / LAGUNA ST</td>\n",
       "      <td>-122.425892</td>\n",
       "      <td>37.774599</td>\n",
       "    </tr>\n",
       "    <tr>\n",
       "      <td>2</td>\n",
       "      <td>2015-05-13 23:33:00</td>\n",
       "      <td>OTHER OFFENSES</td>\n",
       "      <td>TRAFFIC VIOLATION ARREST</td>\n",
       "      <td>Wednesday</td>\n",
       "      <td>NORTHERN</td>\n",
       "      <td>ARREST, BOOKED</td>\n",
       "      <td>VANNESS AV / GREENWICH ST</td>\n",
       "      <td>-122.424363</td>\n",
       "      <td>37.800414</td>\n",
       "    </tr>\n",
       "    <tr>\n",
       "      <td>3</td>\n",
       "      <td>2015-05-13 23:30:00</td>\n",
       "      <td>LARCENY/THEFT</td>\n",
       "      <td>GRAND THEFT FROM LOCKED AUTO</td>\n",
       "      <td>Wednesday</td>\n",
       "      <td>NORTHERN</td>\n",
       "      <td>NONE</td>\n",
       "      <td>1500 Block of LOMBARD ST</td>\n",
       "      <td>-122.426995</td>\n",
       "      <td>37.800873</td>\n",
       "    </tr>\n",
       "    <tr>\n",
       "      <td>4</td>\n",
       "      <td>2015-05-13 23:30:00</td>\n",
       "      <td>LARCENY/THEFT</td>\n",
       "      <td>GRAND THEFT FROM LOCKED AUTO</td>\n",
       "      <td>Wednesday</td>\n",
       "      <td>PARK</td>\n",
       "      <td>NONE</td>\n",
       "      <td>100 Block of BRODERICK ST</td>\n",
       "      <td>-122.438738</td>\n",
       "      <td>37.771541</td>\n",
       "    </tr>\n",
       "  </tbody>\n",
       "</table>\n",
       "</div>"
      ],
      "text/plain": [
       "                Dates        Category                      Descript  \\\n",
       "0 2015-05-13 23:53:00        WARRANTS                WARRANT ARREST   \n",
       "1 2015-05-13 23:53:00  OTHER OFFENSES      TRAFFIC VIOLATION ARREST   \n",
       "2 2015-05-13 23:33:00  OTHER OFFENSES      TRAFFIC VIOLATION ARREST   \n",
       "3 2015-05-13 23:30:00   LARCENY/THEFT  GRAND THEFT FROM LOCKED AUTO   \n",
       "4 2015-05-13 23:30:00   LARCENY/THEFT  GRAND THEFT FROM LOCKED AUTO   \n",
       "\n",
       "   DayOfWeek PdDistrict      Resolution                    Address  \\\n",
       "0  Wednesday   NORTHERN  ARREST, BOOKED         OAK ST / LAGUNA ST   \n",
       "1  Wednesday   NORTHERN  ARREST, BOOKED         OAK ST / LAGUNA ST   \n",
       "2  Wednesday   NORTHERN  ARREST, BOOKED  VANNESS AV / GREENWICH ST   \n",
       "3  Wednesday   NORTHERN            NONE   1500 Block of LOMBARD ST   \n",
       "4  Wednesday       PARK            NONE  100 Block of BRODERICK ST   \n",
       "\n",
       "            X          Y  \n",
       "0 -122.425892  37.774599  \n",
       "1 -122.425892  37.774599  \n",
       "2 -122.424363  37.800414  \n",
       "3 -122.426995  37.800873  \n",
       "4 -122.438738  37.771541  "
      ]
     },
     "execution_count": 5,
     "metadata": {},
     "output_type": "execute_result"
    }
   ],
   "source": [
    "train.head()"
   ]
  },
  {
   "cell_type": "markdown",
   "metadata": {},
   "source": [
    "- Dates - 범죄가 일어난 일시\n",
    "- Category - 범죄 유형 (이 값이 Target variable임)\n",
    "- Descript - 범죄에 대한 자세한 설명\n",
    "- DayOfWeek - 요일\n",
    "- PdDistrict - 경찰 관할 지역 명칭\n",
    "- Resolution - 범죄 해결 여부\n",
    "- Address - 범죄 발생 주소\n",
    "- X - 경도(Longitude)\n",
    "- Y - 위도(Latitude)"
   ]
  },
  {
   "cell_type": "code",
   "execution_count": 6,
   "metadata": {},
   "outputs": [
    {
     "data": {
      "text/plain": [
       "Dates         datetime64[ns]\n",
       "Category              object\n",
       "Descript              object\n",
       "DayOfWeek             object\n",
       "PdDistrict            object\n",
       "Resolution            object\n",
       "Address               object\n",
       "X                    float64\n",
       "Y                    float64\n",
       "dtype: object"
      ]
     },
     "execution_count": 6,
     "metadata": {},
     "output_type": "execute_result"
    }
   ],
   "source": [
    "train.dtypes"
   ]
  },
  {
   "cell_type": "markdown",
   "metadata": {},
   "source": [
    "object type, 즉 string type은 카테고리형 데이터이기 때문에 추후 인코딩이 필요합니다."
   ]
  },
  {
   "cell_type": "code",
   "execution_count": 7,
   "metadata": {},
   "outputs": [
    {
     "data": {
      "text/plain": [
       "2323"
      ]
     },
     "execution_count": 7,
     "metadata": {},
     "output_type": "execute_result"
    }
   ],
   "source": [
    "train.duplicated().sum()"
   ]
  },
  {
   "cell_type": "markdown",
   "metadata": {},
   "source": [
    "2323개의 중복행이 존재해 제거해줘야 합니다."
   ]
  },
  {
   "cell_type": "code",
   "execution_count": 8,
   "metadata": {},
   "outputs": [],
   "source": [
    "def create_gdf(df):\n",
    "    gdf = df.copy()\n",
    "    gdf['Coordinates'] = list(zip(gdf.X, gdf.Y))\n",
    "    gdf['Coordinates'] = gdf['Coordinates'].apply(Point)\n",
    "    gdf = gpd.GeoDataFrame(gdf, geometry='Coordinates',\n",
    "                          crs={'init': 'epsg:4326'})\n",
    "    return gdf\n",
    "\n",
    "train_gdf = create_gdf(train)"
   ]
  },
  {
   "cell_type": "code",
   "execution_count": 9,
   "metadata": {},
   "outputs": [
    {
     "data": {
      "image/png": "[encoded data removed]",
      "text/plain": [
       "<Figure size 648x648 with 1 Axes>"
      ]
     },
     "metadata": {
      "needs_background": "light"
     },
     "output_type": "display_data"
    }
   ],
   "source": [
    "world = gpd.read_file(gpd.datasets.get_path('naturalearth_lowres'))\n",
    "f, ax = plt.subplots(1, figsize=(9,9))\n",
    "ax = world.plot(color='white', edgecolor='black', axes=ax)\n",
    "train_gdf.plot(ax=ax, color='red');"
   ]
  },
  {
   "cell_type": "markdown",
   "metadata": {},
   "source": [
    "캘리포니아 지역의 범죄에 대한 데이터인데 엉뚱한 곳에 찍혀 있는 데이터가 있습니다. 어떤 데이터인지 확인해보겠습니다."
   ]
  },
  {
   "cell_type": "code",
   "execution_count": 10,
   "metadata": {},
   "outputs": [
    {
     "data": {
      "text/html": [
       "<div>\n",
       "<style scoped>\n",
       "    .dataframe tbody tr th:only-of-type {\n",
       "        vertical-align: middle;\n",
       "    }\n",
       "\n",
       "    .dataframe tbody tr th {\n",
       "        vertical-align: top;\n",
       "    }\n",
       "\n",
       "    .dataframe thead th {\n",
       "        text-align: right;\n",
       "    }\n",
       "</style>\n",
       "<table border=\"1\" class=\"dataframe\">\n",
       "  <thead>\n",
       "    <tr style=\"text-align: right;\">\n",
       "      <th></th>\n",
       "      <th>Dates</th>\n",
       "      <th>Category</th>\n",
       "      <th>Descript</th>\n",
       "      <th>DayOfWeek</th>\n",
       "      <th>PdDistrict</th>\n",
       "      <th>Resolution</th>\n",
       "      <th>Address</th>\n",
       "      <th>X</th>\n",
       "      <th>Y</th>\n",
       "      <th>Coordinates</th>\n",
       "    </tr>\n",
       "  </thead>\n",
       "  <tbody>\n",
       "    <tr>\n",
       "      <td>660485</td>\n",
       "      <td>2005-12-30 17:00:00</td>\n",
       "      <td>LARCENY/THEFT</td>\n",
       "      <td>GRAND THEFT FROM LOCKED AUTO</td>\n",
       "      <td>Friday</td>\n",
       "      <td>TENDERLOIN</td>\n",
       "      <td>NONE</td>\n",
       "      <td>5THSTNORTH ST / OFARRELL ST</td>\n",
       "      <td>-120.5</td>\n",
       "      <td>90.0</td>\n",
       "      <td>POINT (-120.50000 90.00000)</td>\n",
       "    </tr>\n",
       "    <tr>\n",
       "      <td>660711</td>\n",
       "      <td>2005-12-30 00:34:00</td>\n",
       "      <td>ASSAULT</td>\n",
       "      <td>INFLICT INJURY ON COHABITEE</td>\n",
       "      <td>Friday</td>\n",
       "      <td>BAYVIEW</td>\n",
       "      <td>ARREST, BOOKED</td>\n",
       "      <td>JAMESLICKFREEWAY HY / SILVER AV</td>\n",
       "      <td>-120.5</td>\n",
       "      <td>90.0</td>\n",
       "      <td>POINT (-120.50000 90.00000)</td>\n",
       "    </tr>\n",
       "    <tr>\n",
       "      <td>660712</td>\n",
       "      <td>2005-12-30 00:34:00</td>\n",
       "      <td>ASSAULT</td>\n",
       "      <td>AGGRAVATED ASSAULT WITH BODILY FORCE</td>\n",
       "      <td>Friday</td>\n",
       "      <td>BAYVIEW</td>\n",
       "      <td>ARREST, BOOKED</td>\n",
       "      <td>JAMESLICKFREEWAY HY / SILVER AV</td>\n",
       "      <td>-120.5</td>\n",
       "      <td>90.0</td>\n",
       "      <td>POINT (-120.50000 90.00000)</td>\n",
       "    </tr>\n",
       "    <tr>\n",
       "      <td>661106</td>\n",
       "      <td>2005-12-29 00:07:00</td>\n",
       "      <td>NON-CRIMINAL</td>\n",
       "      <td>AIDED CASE, MENTAL DISTURBED</td>\n",
       "      <td>Thursday</td>\n",
       "      <td>TENDERLOIN</td>\n",
       "      <td>PSYCHOPATHIC CASE</td>\n",
       "      <td>5THSTNORTH ST / EDDY ST</td>\n",
       "      <td>-120.5</td>\n",
       "      <td>90.0</td>\n",
       "      <td>POINT (-120.50000 90.00000)</td>\n",
       "    </tr>\n",
       "    <tr>\n",
       "      <td>666430</td>\n",
       "      <td>2005-11-30 11:25:00</td>\n",
       "      <td>OTHER OFFENSES</td>\n",
       "      <td>TRAFFIC VIOLATION</td>\n",
       "      <td>Wednesday</td>\n",
       "      <td>TENDERLOIN</td>\n",
       "      <td>ARREST, CITED</td>\n",
       "      <td>5THSTNORTH ST / ELLIS ST</td>\n",
       "      <td>-120.5</td>\n",
       "      <td>90.0</td>\n",
       "      <td>POINT (-120.50000 90.00000)</td>\n",
       "    </tr>\n",
       "    <tr>\n",
       "      <td>...</td>\n",
       "      <td>...</td>\n",
       "      <td>...</td>\n",
       "      <td>...</td>\n",
       "      <td>...</td>\n",
       "      <td>...</td>\n",
       "      <td>...</td>\n",
       "      <td>...</td>\n",
       "      <td>...</td>\n",
       "      <td>...</td>\n",
       "      <td>...</td>\n",
       "    </tr>\n",
       "    <tr>\n",
       "      <td>844995</td>\n",
       "      <td>2003-06-11 08:49:00</td>\n",
       "      <td>OTHER OFFENSES</td>\n",
       "      <td>DRIVERS LICENSE, SUSPENDED OR REVOKED</td>\n",
       "      <td>Wednesday</td>\n",
       "      <td>INGLESIDE</td>\n",
       "      <td>ARREST, CITED</td>\n",
       "      <td>JAMES LICK FREEWAY HY / CESAR CHAVEZ ST</td>\n",
       "      <td>-120.5</td>\n",
       "      <td>90.0</td>\n",
       "      <td>POINT (-120.50000 90.00000)</td>\n",
       "    </tr>\n",
       "    <tr>\n",
       "      <td>845842</td>\n",
       "      <td>2003-06-09 09:25:00</td>\n",
       "      <td>OTHER OFFENSES</td>\n",
       "      <td>DRIVERS LICENSE, SUSPENDED OR REVOKED</td>\n",
       "      <td>Monday</td>\n",
       "      <td>INGLESIDE</td>\n",
       "      <td>ARREST, CITED</td>\n",
       "      <td>JAMES LICK FREEWAY HY / CESAR CHAVEZ ST</td>\n",
       "      <td>-120.5</td>\n",
       "      <td>90.0</td>\n",
       "      <td>POINT (-120.50000 90.00000)</td>\n",
       "    </tr>\n",
       "    <tr>\n",
       "      <td>852880</td>\n",
       "      <td>2003-05-02 01:00:00</td>\n",
       "      <td>SEX OFFENSES FORCIBLE</td>\n",
       "      <td>FORCIBLE RAPE, BODILY FORCE</td>\n",
       "      <td>Friday</td>\n",
       "      <td>SOUTHERN</td>\n",
       "      <td>COMPLAINANT REFUSES TO PROSECUTE</td>\n",
       "      <td>3RD ST / JAMES LICK FREEWAY HY</td>\n",
       "      <td>-120.5</td>\n",
       "      <td>90.0</td>\n",
       "      <td>POINT (-120.50000 90.00000)</td>\n",
       "    </tr>\n",
       "    <tr>\n",
       "      <td>857248</td>\n",
       "      <td>2003-04-14 16:30:00</td>\n",
       "      <td>ROBBERY</td>\n",
       "      <td>ROBBERY ON THE STREET, STRONGARM</td>\n",
       "      <td>Monday</td>\n",
       "      <td>BAYVIEW</td>\n",
       "      <td>COMPLAINANT REFUSES TO PROSECUTE</td>\n",
       "      <td>GILMAN AV / FITCH ST</td>\n",
       "      <td>-120.5</td>\n",
       "      <td>90.0</td>\n",
       "      <td>POINT (-120.50000 90.00000)</td>\n",
       "    </tr>\n",
       "    <tr>\n",
       "      <td>871198</td>\n",
       "      <td>2003-02-05 12:00:00</td>\n",
       "      <td>LARCENY/THEFT</td>\n",
       "      <td>PETTY THEFT FROM LOCKED AUTO</td>\n",
       "      <td>Wednesday</td>\n",
       "      <td>SOUTHERN</td>\n",
       "      <td>NONE</td>\n",
       "      <td>SPEAR ST / THE EMBARCADERO SOUTH ST</td>\n",
       "      <td>-120.5</td>\n",
       "      <td>90.0</td>\n",
       "      <td>POINT (-120.50000 90.00000)</td>\n",
       "    </tr>\n",
       "  </tbody>\n",
       "</table>\n",
       "<p>67 rows × 10 columns</p>\n",
       "</div>"
      ],
      "text/plain": [
       "                     Dates               Category  \\\n",
       "660485 2005-12-30 17:00:00          LARCENY/THEFT   \n",
       "660711 2005-12-30 00:34:00                ASSAULT   \n",
       "660712 2005-12-30 00:34:00                ASSAULT   \n",
       "661106 2005-12-29 00:07:00           NON-CRIMINAL   \n",
       "666430 2005-11-30 11:25:00         OTHER OFFENSES   \n",
       "...                    ...                    ...   \n",
       "844995 2003-06-11 08:49:00         OTHER OFFENSES   \n",
       "845842 2003-06-09 09:25:00         OTHER OFFENSES   \n",
       "852880 2003-05-02 01:00:00  SEX OFFENSES FORCIBLE   \n",
       "857248 2003-04-14 16:30:00                ROBBERY   \n",
       "871198 2003-02-05 12:00:00          LARCENY/THEFT   \n",
       "\n",
       "                                     Descript  DayOfWeek  PdDistrict  \\\n",
       "660485           GRAND THEFT FROM LOCKED AUTO     Friday  TENDERLOIN   \n",
       "660711            INFLICT INJURY ON COHABITEE     Friday     BAYVIEW   \n",
       "660712   AGGRAVATED ASSAULT WITH BODILY FORCE     Friday     BAYVIEW   \n",
       "661106           AIDED CASE, MENTAL DISTURBED   Thursday  TENDERLOIN   \n",
       "666430                      TRAFFIC VIOLATION  Wednesday  TENDERLOIN   \n",
       "...                                       ...        ...         ...   \n",
       "844995  DRIVERS LICENSE, SUSPENDED OR REVOKED  Wednesday   INGLESIDE   \n",
       "845842  DRIVERS LICENSE, SUSPENDED OR REVOKED     Monday   INGLESIDE   \n",
       "852880            FORCIBLE RAPE, BODILY FORCE     Friday    SOUTHERN   \n",
       "857248       ROBBERY ON THE STREET, STRONGARM     Monday     BAYVIEW   \n",
       "871198           PETTY THEFT FROM LOCKED AUTO  Wednesday    SOUTHERN   \n",
       "\n",
       "                              Resolution  \\\n",
       "660485                              NONE   \n",
       "660711                    ARREST, BOOKED   \n",
       "660712                    ARREST, BOOKED   \n",
       "661106                 PSYCHOPATHIC CASE   \n",
       "666430                     ARREST, CITED   \n",
       "...                                  ...   \n",
       "844995                     ARREST, CITED   \n",
       "845842                     ARREST, CITED   \n",
       "852880  COMPLAINANT REFUSES TO PROSECUTE   \n",
       "857248  COMPLAINANT REFUSES TO PROSECUTE   \n",
       "871198                              NONE   \n",
       "\n",
       "                                        Address      X     Y  \\\n",
       "660485              5THSTNORTH ST / OFARRELL ST -120.5  90.0   \n",
       "660711          JAMESLICKFREEWAY HY / SILVER AV -120.5  90.0   \n",
       "660712          JAMESLICKFREEWAY HY / SILVER AV -120.5  90.0   \n",
       "661106                  5THSTNORTH ST / EDDY ST -120.5  90.0   \n",
       "666430                 5THSTNORTH ST / ELLIS ST -120.5  90.0   \n",
       "...                                         ...    ...   ...   \n",
       "844995  JAMES LICK FREEWAY HY / CESAR CHAVEZ ST -120.5  90.0   \n",
       "845842  JAMES LICK FREEWAY HY / CESAR CHAVEZ ST -120.5  90.0   \n",
       "852880           3RD ST / JAMES LICK FREEWAY HY -120.5  90.0   \n",
       "857248                     GILMAN AV / FITCH ST -120.5  90.0   \n",
       "871198      SPEAR ST / THE EMBARCADERO SOUTH ST -120.5  90.0   \n",
       "\n",
       "                        Coordinates  \n",
       "660485  POINT (-120.50000 90.00000)  \n",
       "660711  POINT (-120.50000 90.00000)  \n",
       "660712  POINT (-120.50000 90.00000)  \n",
       "661106  POINT (-120.50000 90.00000)  \n",
       "666430  POINT (-120.50000 90.00000)  \n",
       "...                             ...  \n",
       "844995  POINT (-120.50000 90.00000)  \n",
       "845842  POINT (-120.50000 90.00000)  \n",
       "852880  POINT (-120.50000 90.00000)  \n",
       "857248  POINT (-120.50000 90.00000)  \n",
       "871198  POINT (-120.50000 90.00000)  \n",
       "\n",
       "[67 rows x 10 columns]"
      ]
     },
     "execution_count": 10,
     "metadata": {},
     "output_type": "execute_result"
    }
   ],
   "source": [
    "train_gdf[train_gdf.Y > 70]"
   ]
  },
  {
   "cell_type": "code",
   "execution_count": 11,
   "metadata": {},
   "outputs": [
    {
     "data": {
      "text/plain": [
       "67"
      ]
     },
     "execution_count": 11,
     "metadata": {},
     "output_type": "execute_result"
    }
   ],
   "source": [
    "train_gdf[train_gdf.Y > 70].count()[0]"
   ]
  },
  {
   "cell_type": "markdown",
   "metadata": {},
   "source": [
    "총 67개의 데이터의 좌표가 잘못되어 있습니다.\n",
    "우선, 중복행은 제거를 시켜줍니다. 그리고 67개의 outlier는 평균값으로 대체합니다."
   ]
  },
  {
   "cell_type": "code",
   "execution_count": 12,
   "metadata": {},
   "outputs": [],
   "source": [
    "train.drop_duplicates(inplace=True)"
   ]
  },
  {
   "cell_type": "code",
   "execution_count": 13,
   "metadata": {},
   "outputs": [],
   "source": [
    "train.replace({'X': -120.5, 'Y': 90.0}, np.NaN, inplace=True)\n",
    "test.replace({'X': -120.5, 'Y': 90.0}, np.NaN, inplace=True)"
   ]
  },
  {
   "cell_type": "code",
   "execution_count": 14,
   "metadata": {},
   "outputs": [],
   "source": [
    "imputer = SimpleImputer(strategy='mean')"
   ]
  },
  {
   "cell_type": "code",
   "execution_count": 15,
   "metadata": {},
   "outputs": [],
   "source": [
    "for district in train['PdDistrict'].unique():\n",
    "    train.loc[train['PdDistrict']==district, ['X', 'Y']] = imputer.fit_transform(\n",
    "        train.loc[train['PdDistrict']==district, ['X', 'Y']])\n",
    "    # fit은 train 데이터로 해주었기때문에 transform만 적용\n",
    "    test.loc[test['PdDistrict']==district, ['X', 'Y']] = imputer.transform(\n",
    "        test.loc[test['PdDistrict']==district, ['X', 'Y']])    \n",
    "    \n",
    "train_gdf = create_gdf(train)"
   ]
  },
  {
   "cell_type": "markdown",
   "metadata": {},
   "source": [
    "### 날짜와 요일"
   ]
  },
  {
   "cell_type": "code",
   "execution_count": 16,
   "metadata": {},
   "outputs": [],
   "source": [
    "train['Date'] = train['Dates'].dt.date\n",
    "train['Year'] = train['Dates'].dt.year\n",
    "train['Month'] = train['Dates'].dt.month\n",
    "train['Hour'] = train['Dates'].dt.hour"
   ]
  },
  {
   "cell_type": "code",
   "execution_count": 26,
   "metadata": {
    "scrolled": true
   },
   "outputs": [
    {
     "data": {
      "image/png": "[encoded data removed]",
      "text/plain": [
       "<Figure size 432x288 with 1 Axes>"
      ]
     },
     "metadata": {
      "needs_background": "light"
     },
     "output_type": "display_data"
    }
   ],
   "source": [
    "year_series = train.groupby('Year').count().iloc[:, 0]\n",
    "g = sns.barplot(x=year_series.index, y=year_series)\n",
    "g.set_xticklabels(g.get_xticklabels(), rotation=45);"
   ]
  },
  {
   "cell_type": "markdown",
   "metadata": {},
   "source": [
    "연도에 따른 범죄수입니다. 2003년부터 2014년까지는 범죄수가 거의 유사했지만, 2015년에 급감한 수치를 보입니다."
   ]
  },
  {
   "cell_type": "code",
   "execution_count": 31,
   "metadata": {},
   "outputs": [
    {
     "data": {
      "image/png": "[encoded data removed]",
      "text/plain": [
       "<Figure size 432x288 with 1 Axes>"
      ]
     },
     "metadata": {
      "needs_background": "light"
     },
     "output_type": "display_data"
    }
   ],
   "source": [
    "month_series = train.groupby('Month').count().iloc[:, 0]\n",
    "sns.barplot(x=month_series.index, y=month_series);"
   ]
  },
  {
   "cell_type": "markdown",
   "metadata": {},
   "source": [
    "월에 따른 범죄수입니다. 8월, 12월에 범죄수가 가장 적었고, 5월, 10월에 가장 많았습니다. 날씨가 안 좋을 때 (더울 때 혹은 추울 때)는 범죄도 적고, 날씨가 좋을 때는 범죄도 많다는 것을 알 수 있습니다."
   ]
  },
  {
   "cell_type": "code",
   "execution_count": 32,
   "metadata": {},
   "outputs": [
    {
     "data": {
      "image/png": "[encoded data removed]",
      "text/plain": [
       "<Figure size 432x288 with 1 Axes>"
      ]
     },
     "metadata": {
      "needs_background": "light"
     },
     "output_type": "display_data"
    }
   ],
   "source": [
    "hour_series = train.groupby('Hour').count().iloc[:, 0]\n",
    "sns.barplot(x=hour_series.index, y=hour_series);"
   ]
  },
  {
   "cell_type": "markdown",
   "metadata": {},
   "source": [
    "시간에 따른 범죄수입니다. 예상대로 모두가 잠든 새벽 시간에 범죄가 가장 적고, 18시가 가장 많습니다. 아침부터 18시까지 점차 증가하는 추세를 보이는데 12시에 유독 많은 것을 볼 수 있습니다. 점심 시간, 저녁 시간 등과 관련이 있지 않나 추측해봅니다."
   ]
  },
  {
   "cell_type": "code",
   "execution_count": null,
   "metadata": {},
   "outputs": [],
   "source": []
  }
 ],
 "metadata": {
  "kernelspec": {
   "display_name": "Python 3",
   "language": "python",
   "name": "python3"
  },
  "language_info": {
   "codemirror_mode": {
    "name": "ipython",
    "version": 3
   },
   "file_extension": ".py",
   "mimetype": "text/x-python",
   "name": "python",
   "nbconvert_exporter": "python",
   "pygments_lexer": "ipython3",
   "version": "3.7.3"
  }
 },
 "nbformat": 4,
 "nbformat_minor": 2
}
