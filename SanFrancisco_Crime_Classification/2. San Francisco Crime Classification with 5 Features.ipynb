{
 "cells": [
  {
   "cell_type": "markdown",
   "metadata": {},
   "source": [
    "# San Francisco Crime Classification with 5 Features"
   ]
  },
  {
   "cell_type": "markdown",
   "metadata": {},
   "source": [
    "Data: https://www.kaggle.com/c/sf-crime/data\n",
    "\n",
    "Data fields\n",
    "- Dates - timestamp of the crime incident\n",
    "- Category - category of the crime incident (only in train.csv). **This is the target variable you are going to predict.**\n",
    "- Descript - detailed description of the crime incident (only in train.csv)\n",
    "- DayOfWeek - the day of the week\n",
    "- PdDistrict - name of the Police Department District\n",
    "- Resolution - how the crime incident was resolved (only in train.csv)\n",
    "- Address - the approximate street address of the crime incident \n",
    "- X - Longitude\n",
    "- Y - Latitude"
   ]
  },
  {
   "cell_type": "markdown",
   "metadata": {},
   "source": [
    "San Francisco Crime Classification EDA and Basic Modeling을 먼저 보고 본 notebook을 참고해주시기 바랍니다."
   ]
  },
  {
   "cell_type": "code",
   "execution_count": 1,
   "metadata": {
    "_cell_guid": "b1076dfc-b9ad-4769-8c92-a6c4dae69d19",
    "_uuid": "8f2839f25d086af736a60e9eeb907d3b93b6e0e5"
   },
   "outputs": [],
   "source": [
    "import numpy as np\n",
    "import pandas as pd\n",
    "import matplotlib.pyplot as plt\n",
    "import seaborn as sns\n",
    "from sklearn.preprocessing import LabelEncoder\n",
    "from statsmodels.stats.outliers_influence import variance_inflation_factor\n",
    "from patsy import dmatrices\n",
    "from sklearn.model_selection import train_test_split\n",
    "from xgboost import XGBClassifier\n",
    "%matplotlib inline\n",
    "\n",
    "import os\n",
    "for dirname, _, filenames in os.walk('/kaggle/input'):\n",
    "    for filename in filenames:\n",
    "        print(os.path.join(dirname, filename))"
   ]
  },
  {
   "cell_type": "code",
   "execution_count": 2,
   "metadata": {},
   "outputs": [],
   "source": [
    "train = pd.read_csv('data/train.csv')\n",
    "test = pd.read_csv('data/test.csv')"
   ]
  },
  {
   "cell_type": "code",
   "execution_count": 3,
   "metadata": {},
   "outputs": [
    {
     "data": {
      "text/html": [
       "<div>\n",
       "<style scoped>\n",
       "    .dataframe tbody tr th:only-of-type {\n",
       "        vertical-align: middle;\n",
       "    }\n",
       "\n",
       "    .dataframe tbody tr th {\n",
       "        vertical-align: top;\n",
       "    }\n",
       "\n",
       "    .dataframe thead th {\n",
       "        text-align: right;\n",
       "    }\n",
       "</style>\n",
       "<table border=\"1\" class=\"dataframe\">\n",
       "  <thead>\n",
       "    <tr style=\"text-align: right;\">\n",
       "      <th></th>\n",
       "      <th>Dates</th>\n",
       "      <th>Category</th>\n",
       "      <th>Descript</th>\n",
       "      <th>DayOfWeek</th>\n",
       "      <th>PdDistrict</th>\n",
       "      <th>Resolution</th>\n",
       "      <th>Address</th>\n",
       "      <th>X</th>\n",
       "      <th>Y</th>\n",
       "    </tr>\n",
       "  </thead>\n",
       "  <tbody>\n",
       "    <tr>\n",
       "      <th>0</th>\n",
       "      <td>2015-05-13 23:53:00</td>\n",
       "      <td>WARRANTS</td>\n",
       "      <td>WARRANT ARREST</td>\n",
       "      <td>Wednesday</td>\n",
       "      <td>NORTHERN</td>\n",
       "      <td>ARREST, BOOKED</td>\n",
       "      <td>OAK ST / LAGUNA ST</td>\n",
       "      <td>-122.425892</td>\n",
       "      <td>37.774599</td>\n",
       "    </tr>\n",
       "    <tr>\n",
       "      <th>1</th>\n",
       "      <td>2015-05-13 23:53:00</td>\n",
       "      <td>OTHER OFFENSES</td>\n",
       "      <td>TRAFFIC VIOLATION ARREST</td>\n",
       "      <td>Wednesday</td>\n",
       "      <td>NORTHERN</td>\n",
       "      <td>ARREST, BOOKED</td>\n",
       "      <td>OAK ST / LAGUNA ST</td>\n",
       "      <td>-122.425892</td>\n",
       "      <td>37.774599</td>\n",
       "    </tr>\n",
       "    <tr>\n",
       "      <th>2</th>\n",
       "      <td>2015-05-13 23:33:00</td>\n",
       "      <td>OTHER OFFENSES</td>\n",
       "      <td>TRAFFIC VIOLATION ARREST</td>\n",
       "      <td>Wednesday</td>\n",
       "      <td>NORTHERN</td>\n",
       "      <td>ARREST, BOOKED</td>\n",
       "      <td>VANNESS AV / GREENWICH ST</td>\n",
       "      <td>-122.424363</td>\n",
       "      <td>37.800414</td>\n",
       "    </tr>\n",
       "    <tr>\n",
       "      <th>3</th>\n",
       "      <td>2015-05-13 23:30:00</td>\n",
       "      <td>LARCENY/THEFT</td>\n",
       "      <td>GRAND THEFT FROM LOCKED AUTO</td>\n",
       "      <td>Wednesday</td>\n",
       "      <td>NORTHERN</td>\n",
       "      <td>NONE</td>\n",
       "      <td>1500 Block of LOMBARD ST</td>\n",
       "      <td>-122.426995</td>\n",
       "      <td>37.800873</td>\n",
       "    </tr>\n",
       "    <tr>\n",
       "      <th>4</th>\n",
       "      <td>2015-05-13 23:30:00</td>\n",
       "      <td>LARCENY/THEFT</td>\n",
       "      <td>GRAND THEFT FROM LOCKED AUTO</td>\n",
       "      <td>Wednesday</td>\n",
       "      <td>PARK</td>\n",
       "      <td>NONE</td>\n",
       "      <td>100 Block of BRODERICK ST</td>\n",
       "      <td>-122.438738</td>\n",
       "      <td>37.771541</td>\n",
       "    </tr>\n",
       "  </tbody>\n",
       "</table>\n",
       "</div>"
      ],
      "text/plain": [
       "                 Dates        Category                      Descript  \\\n",
       "0  2015-05-13 23:53:00        WARRANTS                WARRANT ARREST   \n",
       "1  2015-05-13 23:53:00  OTHER OFFENSES      TRAFFIC VIOLATION ARREST   \n",
       "2  2015-05-13 23:33:00  OTHER OFFENSES      TRAFFIC VIOLATION ARREST   \n",
       "3  2015-05-13 23:30:00   LARCENY/THEFT  GRAND THEFT FROM LOCKED AUTO   \n",
       "4  2015-05-13 23:30:00   LARCENY/THEFT  GRAND THEFT FROM LOCKED AUTO   \n",
       "\n",
       "   DayOfWeek PdDistrict      Resolution                    Address  \\\n",
       "0  Wednesday   NORTHERN  ARREST, BOOKED         OAK ST / LAGUNA ST   \n",
       "1  Wednesday   NORTHERN  ARREST, BOOKED         OAK ST / LAGUNA ST   \n",
       "2  Wednesday   NORTHERN  ARREST, BOOKED  VANNESS AV / GREENWICH ST   \n",
       "3  Wednesday   NORTHERN            NONE   1500 Block of LOMBARD ST   \n",
       "4  Wednesday       PARK            NONE  100 Block of BRODERICK ST   \n",
       "\n",
       "            X          Y  \n",
       "0 -122.425892  37.774599  \n",
       "1 -122.425892  37.774599  \n",
       "2 -122.424363  37.800414  \n",
       "3 -122.426995  37.800873  \n",
       "4 -122.438738  37.771541  "
      ]
     },
     "execution_count": 3,
     "metadata": {},
     "output_type": "execute_result"
    }
   ],
   "source": [
    "train.head()"
   ]
  },
  {
   "cell_type": "code",
   "execution_count": 4,
   "metadata": {},
   "outputs": [
    {
     "data": {
      "text/html": [
       "<div>\n",
       "<style scoped>\n",
       "    .dataframe tbody tr th:only-of-type {\n",
       "        vertical-align: middle;\n",
       "    }\n",
       "\n",
       "    .dataframe tbody tr th {\n",
       "        vertical-align: top;\n",
       "    }\n",
       "\n",
       "    .dataframe thead th {\n",
       "        text-align: right;\n",
       "    }\n",
       "</style>\n",
       "<table border=\"1\" class=\"dataframe\">\n",
       "  <thead>\n",
       "    <tr style=\"text-align: right;\">\n",
       "      <th></th>\n",
       "      <th>Id</th>\n",
       "      <th>Dates</th>\n",
       "      <th>DayOfWeek</th>\n",
       "      <th>PdDistrict</th>\n",
       "      <th>Address</th>\n",
       "      <th>X</th>\n",
       "      <th>Y</th>\n",
       "    </tr>\n",
       "  </thead>\n",
       "  <tbody>\n",
       "    <tr>\n",
       "      <th>0</th>\n",
       "      <td>0</td>\n",
       "      <td>2015-05-10 23:59:00</td>\n",
       "      <td>Sunday</td>\n",
       "      <td>BAYVIEW</td>\n",
       "      <td>2000 Block of THOMAS AV</td>\n",
       "      <td>-122.399588</td>\n",
       "      <td>37.735051</td>\n",
       "    </tr>\n",
       "    <tr>\n",
       "      <th>1</th>\n",
       "      <td>1</td>\n",
       "      <td>2015-05-10 23:51:00</td>\n",
       "      <td>Sunday</td>\n",
       "      <td>BAYVIEW</td>\n",
       "      <td>3RD ST / REVERE AV</td>\n",
       "      <td>-122.391523</td>\n",
       "      <td>37.732432</td>\n",
       "    </tr>\n",
       "    <tr>\n",
       "      <th>2</th>\n",
       "      <td>2</td>\n",
       "      <td>2015-05-10 23:50:00</td>\n",
       "      <td>Sunday</td>\n",
       "      <td>NORTHERN</td>\n",
       "      <td>2000 Block of GOUGH ST</td>\n",
       "      <td>-122.426002</td>\n",
       "      <td>37.792212</td>\n",
       "    </tr>\n",
       "    <tr>\n",
       "      <th>3</th>\n",
       "      <td>3</td>\n",
       "      <td>2015-05-10 23:45:00</td>\n",
       "      <td>Sunday</td>\n",
       "      <td>INGLESIDE</td>\n",
       "      <td>4700 Block of MISSION ST</td>\n",
       "      <td>-122.437394</td>\n",
       "      <td>37.721412</td>\n",
       "    </tr>\n",
       "    <tr>\n",
       "      <th>4</th>\n",
       "      <td>4</td>\n",
       "      <td>2015-05-10 23:45:00</td>\n",
       "      <td>Sunday</td>\n",
       "      <td>INGLESIDE</td>\n",
       "      <td>4700 Block of MISSION ST</td>\n",
       "      <td>-122.437394</td>\n",
       "      <td>37.721412</td>\n",
       "    </tr>\n",
       "  </tbody>\n",
       "</table>\n",
       "</div>"
      ],
      "text/plain": [
       "   Id                Dates DayOfWeek PdDistrict                   Address  \\\n",
       "0   0  2015-05-10 23:59:00    Sunday    BAYVIEW   2000 Block of THOMAS AV   \n",
       "1   1  2015-05-10 23:51:00    Sunday    BAYVIEW        3RD ST / REVERE AV   \n",
       "2   2  2015-05-10 23:50:00    Sunday   NORTHERN    2000 Block of GOUGH ST   \n",
       "3   3  2015-05-10 23:45:00    Sunday  INGLESIDE  4700 Block of MISSION ST   \n",
       "4   4  2015-05-10 23:45:00    Sunday  INGLESIDE  4700 Block of MISSION ST   \n",
       "\n",
       "            X          Y  \n",
       "0 -122.399588  37.735051  \n",
       "1 -122.391523  37.732432  \n",
       "2 -122.426002  37.792212  \n",
       "3 -122.437394  37.721412  \n",
       "4 -122.437394  37.721412  "
      ]
     },
     "execution_count": 4,
     "metadata": {},
     "output_type": "execute_result"
    }
   ],
   "source": [
    "test.head()"
   ]
  },
  {
   "cell_type": "code",
   "execution_count": 5,
   "metadata": {},
   "outputs": [
    {
     "data": {
      "text/plain": [
       "((878049, 9), (884262, 7))"
      ]
     },
     "execution_count": 5,
     "metadata": {},
     "output_type": "execute_result"
    }
   ],
   "source": [
    "train.shape, test.shape"
   ]
  },
  {
   "cell_type": "markdown",
   "metadata": {},
   "source": [
    "## Longtitude, Latitude Boxplot"
   ]
  },
  {
   "cell_type": "code",
   "execution_count": 6,
   "metadata": {},
   "outputs": [
    {
     "data": {
      "text/plain": [
       "(-122.51364206429, -120.5)"
      ]
     },
     "execution_count": 6,
     "metadata": {},
     "output_type": "execute_result"
    }
   ],
   "source": [
    "# 경도(Longtitude)\n",
    "train.X.min(), train.X.max()"
   ]
  },
  {
   "cell_type": "code",
   "execution_count": 7,
   "metadata": {},
   "outputs": [
    {
     "data": {
      "text/plain": [
       "(37.7078790224135, 90.0)"
      ]
     },
     "execution_count": 7,
     "metadata": {},
     "output_type": "execute_result"
    }
   ],
   "source": [
    "# 위도 (Latitude)\n",
    "train.Y.min(), train.Y.max()"
   ]
  },
  {
   "cell_type": "code",
   "execution_count": 8,
   "metadata": {},
   "outputs": [
    {
     "data": {
      "text/plain": [
       "(-122.51364206429, -120.5)"
      ]
     },
     "execution_count": 8,
     "metadata": {},
     "output_type": "execute_result"
    }
   ],
   "source": [
    "test.X.min(), test.X.max()"
   ]
  },
  {
   "cell_type": "code",
   "execution_count": 9,
   "metadata": {},
   "outputs": [
    {
     "data": {
      "text/plain": [
       "(37.7078790224135, 90.0)"
      ]
     },
     "execution_count": 9,
     "metadata": {},
     "output_type": "execute_result"
    }
   ],
   "source": [
    "test.Y.min(), test.Y.max()"
   ]
  },
  {
   "cell_type": "markdown",
   "metadata": {},
   "source": [
    "37.828495, -122.425863 / 37.825059, -122.420260"
   ]
  },
  {
   "cell_type": "code",
   "execution_count": 10,
   "metadata": {},
   "outputs": [
    {
     "data": {
      "image/png": "[encoded data removed]",
      "text/plain": [
       "<Figure size 720x216 with 1 Axes>"
      ]
     },
     "metadata": {
      "needs_background": "light"
     },
     "output_type": "display_data"
    }
   ],
   "source": [
    "plt.figure(figsize=(10,3))\n",
    "sns.boxplot(x='X', data=train);"
   ]
  },
  {
   "cell_type": "code",
   "execution_count": 11,
   "metadata": {
    "scrolled": true
   },
   "outputs": [
    {
     "data": {
      "image/png": "[encoded data removed]",
      "text/plain": [
       "<Figure size 720x216 with 1 Axes>"
      ]
     },
     "metadata": {
      "needs_background": "light"
     },
     "output_type": "display_data"
    }
   ],
   "source": [
    "plt.figure(figsize=(10,3))\n",
    "sns.boxplot(x='Y', data=train);"
   ]
  },
  {
   "cell_type": "code",
   "execution_count": 12,
   "metadata": {},
   "outputs": [
    {
     "data": {
      "image/png": "[encoded data removed]",
      "text/plain": [
       "<Figure size 720x216 with 1 Axes>"
      ]
     },
     "metadata": {
      "needs_background": "light"
     },
     "output_type": "display_data"
    }
   ],
   "source": [
    "plt.figure(figsize=(10,3))\n",
    "sns.boxplot(x='X', data=test);"
   ]
  },
  {
   "cell_type": "code",
   "execution_count": 13,
   "metadata": {
    "scrolled": false
   },
   "outputs": [
    {
     "data": {
      "image/png": "[encoded data removed]",
      "text/plain": [
       "<Figure size 720x216 with 1 Axes>"
      ]
     },
     "metadata": {
      "needs_background": "light"
     },
     "output_type": "display_data"
    }
   ],
   "source": [
    "plt.figure(figsize=(10,3))\n",
    "sns.boxplot(x='Y', data=test);"
   ]
  },
  {
   "cell_type": "markdown",
   "metadata": {},
   "source": [
    "## Without Outlier"
   ]
  },
  {
   "cell_type": "code",
   "execution_count": 14,
   "metadata": {},
   "outputs": [
    {
     "data": {
      "image/png": "[encoded data removed]",
      "text/plain": [
       "<Figure size 720x216 with 1 Axes>"
      ]
     },
     "metadata": {
      "needs_background": "light"
     },
     "output_type": "display_data"
    }
   ],
   "source": [
    "plt.figure(figsize=(10,3))\n",
    "sns.boxplot(x='X', data=train[train.X < -122]);"
   ]
  },
  {
   "cell_type": "code",
   "execution_count": 15,
   "metadata": {},
   "outputs": [
    {
     "data": {
      "image/png": "[encoded data removed]",
      "text/plain": [
       "<Figure size 720x216 with 1 Axes>"
      ]
     },
     "metadata": {
      "needs_background": "light"
     },
     "output_type": "display_data"
    }
   ],
   "source": [
    "plt.figure(figsize=(10,3))\n",
    "sns.boxplot(x='Y', data=train[train.Y < 80]);"
   ]
  },
  {
   "cell_type": "code",
   "execution_count": 16,
   "metadata": {},
   "outputs": [
    {
     "data": {
      "image/png": "[encoded data removed]",
      "text/plain": [
       "<Figure size 720x216 with 1 Axes>"
      ]
     },
     "metadata": {
      "needs_background": "light"
     },
     "output_type": "display_data"
    }
   ],
   "source": [
    "plt.figure(figsize=(10,3))\n",
    "sns.boxplot(x='X', data=test[test.X < -122]);"
   ]
  },
  {
   "cell_type": "code",
   "execution_count": 17,
   "metadata": {
    "scrolled": false
   },
   "outputs": [
    {
     "data": {
      "image/png": "[encoded data removed]",
      "text/plain": [
       "<Figure size 720x216 with 1 Axes>"
      ]
     },
     "metadata": {
      "needs_background": "light"
     },
     "output_type": "display_data"
    }
   ],
   "source": [
    "plt.figure(figsize=(10,3))\n",
    "sns.boxplot(x='Y', data=test[test.Y < 80]);"
   ]
  },
  {
   "cell_type": "code",
   "execution_count": 18,
   "metadata": {
    "scrolled": true
   },
   "outputs": [
    {
     "data": {
      "text/html": [
       "<div>\n",
       "<style scoped>\n",
       "    .dataframe tbody tr th:only-of-type {\n",
       "        vertical-align: middle;\n",
       "    }\n",
       "\n",
       "    .dataframe tbody tr th {\n",
       "        vertical-align: top;\n",
       "    }\n",
       "\n",
       "    .dataframe thead th {\n",
       "        text-align: right;\n",
       "    }\n",
       "</style>\n",
       "<table border=\"1\" class=\"dataframe\">\n",
       "  <thead>\n",
       "    <tr style=\"text-align: right;\">\n",
       "      <th></th>\n",
       "      <th>Dates</th>\n",
       "      <th>Category</th>\n",
       "      <th>Descript</th>\n",
       "      <th>DayOfWeek</th>\n",
       "      <th>PdDistrict</th>\n",
       "      <th>Resolution</th>\n",
       "      <th>Address</th>\n",
       "      <th>X</th>\n",
       "      <th>Y</th>\n",
       "    </tr>\n",
       "  </thead>\n",
       "  <tbody>\n",
       "    <tr>\n",
       "      <th>0</th>\n",
       "      <td>2015-05-13 23:53:00</td>\n",
       "      <td>WARRANTS</td>\n",
       "      <td>WARRANT ARREST</td>\n",
       "      <td>Wednesday</td>\n",
       "      <td>NORTHERN</td>\n",
       "      <td>ARREST, BOOKED</td>\n",
       "      <td>OAK ST / LAGUNA ST</td>\n",
       "      <td>-122.425892</td>\n",
       "      <td>37.774599</td>\n",
       "    </tr>\n",
       "    <tr>\n",
       "      <th>1</th>\n",
       "      <td>2015-05-13 23:53:00</td>\n",
       "      <td>OTHER OFFENSES</td>\n",
       "      <td>TRAFFIC VIOLATION ARREST</td>\n",
       "      <td>Wednesday</td>\n",
       "      <td>NORTHERN</td>\n",
       "      <td>ARREST, BOOKED</td>\n",
       "      <td>OAK ST / LAGUNA ST</td>\n",
       "      <td>-122.425892</td>\n",
       "      <td>37.774599</td>\n",
       "    </tr>\n",
       "    <tr>\n",
       "      <th>2</th>\n",
       "      <td>2015-05-13 23:33:00</td>\n",
       "      <td>OTHER OFFENSES</td>\n",
       "      <td>TRAFFIC VIOLATION ARREST</td>\n",
       "      <td>Wednesday</td>\n",
       "      <td>NORTHERN</td>\n",
       "      <td>ARREST, BOOKED</td>\n",
       "      <td>VANNESS AV / GREENWICH ST</td>\n",
       "      <td>-122.424363</td>\n",
       "      <td>37.800414</td>\n",
       "    </tr>\n",
       "    <tr>\n",
       "      <th>3</th>\n",
       "      <td>2015-05-13 23:30:00</td>\n",
       "      <td>LARCENY/THEFT</td>\n",
       "      <td>GRAND THEFT FROM LOCKED AUTO</td>\n",
       "      <td>Wednesday</td>\n",
       "      <td>NORTHERN</td>\n",
       "      <td>NONE</td>\n",
       "      <td>1500 Block of LOMBARD ST</td>\n",
       "      <td>-122.426995</td>\n",
       "      <td>37.800873</td>\n",
       "    </tr>\n",
       "    <tr>\n",
       "      <th>4</th>\n",
       "      <td>2015-05-13 23:30:00</td>\n",
       "      <td>LARCENY/THEFT</td>\n",
       "      <td>GRAND THEFT FROM LOCKED AUTO</td>\n",
       "      <td>Wednesday</td>\n",
       "      <td>PARK</td>\n",
       "      <td>NONE</td>\n",
       "      <td>100 Block of BRODERICK ST</td>\n",
       "      <td>-122.438738</td>\n",
       "      <td>37.771541</td>\n",
       "    </tr>\n",
       "  </tbody>\n",
       "</table>\n",
       "</div>"
      ],
      "text/plain": [
       "                 Dates        Category                      Descript  \\\n",
       "0  2015-05-13 23:53:00        WARRANTS                WARRANT ARREST   \n",
       "1  2015-05-13 23:53:00  OTHER OFFENSES      TRAFFIC VIOLATION ARREST   \n",
       "2  2015-05-13 23:33:00  OTHER OFFENSES      TRAFFIC VIOLATION ARREST   \n",
       "3  2015-05-13 23:30:00   LARCENY/THEFT  GRAND THEFT FROM LOCKED AUTO   \n",
       "4  2015-05-13 23:30:00   LARCENY/THEFT  GRAND THEFT FROM LOCKED AUTO   \n",
       "\n",
       "   DayOfWeek PdDistrict      Resolution                    Address  \\\n",
       "0  Wednesday   NORTHERN  ARREST, BOOKED         OAK ST / LAGUNA ST   \n",
       "1  Wednesday   NORTHERN  ARREST, BOOKED         OAK ST / LAGUNA ST   \n",
       "2  Wednesday   NORTHERN  ARREST, BOOKED  VANNESS AV / GREENWICH ST   \n",
       "3  Wednesday   NORTHERN            NONE   1500 Block of LOMBARD ST   \n",
       "4  Wednesday       PARK            NONE  100 Block of BRODERICK ST   \n",
       "\n",
       "            X          Y  \n",
       "0 -122.425892  37.774599  \n",
       "1 -122.425892  37.774599  \n",
       "2 -122.424363  37.800414  \n",
       "3 -122.426995  37.800873  \n",
       "4 -122.438738  37.771541  "
      ]
     },
     "execution_count": 18,
     "metadata": {},
     "output_type": "execute_result"
    }
   ],
   "source": [
    "train.head()"
   ]
  },
  {
   "cell_type": "markdown",
   "metadata": {},
   "source": [
    "## Dates Split\n",
    "년, 월, 일, 시간으로 나누어 DataFrame에 저장합니다."
   ]
  },
  {
   "cell_type": "code",
   "execution_count": 19,
   "metadata": {
    "scrolled": true
   },
   "outputs": [
    {
     "name": "stdout",
     "output_type": "stream",
     "text": [
      "<class 'pandas.core.frame.DataFrame'>\n",
      "RangeIndex: 878049 entries, 0 to 878048\n",
      "Data columns (total 9 columns):\n",
      "Dates         878049 non-null object\n",
      "Category      878049 non-null object\n",
      "Descript      878049 non-null object\n",
      "DayOfWeek     878049 non-null object\n",
      "PdDistrict    878049 non-null object\n",
      "Resolution    878049 non-null object\n",
      "Address       878049 non-null object\n",
      "X             878049 non-null float64\n",
      "Y             878049 non-null float64\n",
      "dtypes: float64(2), object(7)\n",
      "memory usage: 60.3+ MB\n"
     ]
    }
   ],
   "source": [
    "train.info()"
   ]
  },
  {
   "cell_type": "markdown",
   "metadata": {},
   "source": [
    "우선, Dates의 type을 datetime으로 바꿔줍니다."
   ]
  },
  {
   "cell_type": "code",
   "execution_count": 20,
   "metadata": {},
   "outputs": [],
   "source": [
    "train.Dates = pd.to_datetime(train.Dates)\n",
    "test.Dates = pd.to_datetime(test.Dates)"
   ]
  },
  {
   "cell_type": "code",
   "execution_count": 21,
   "metadata": {},
   "outputs": [
    {
     "name": "stdout",
     "output_type": "stream",
     "text": [
      "<class 'pandas.core.frame.DataFrame'>\n",
      "RangeIndex: 878049 entries, 0 to 878048\n",
      "Data columns (total 9 columns):\n",
      "Dates         878049 non-null datetime64[ns]\n",
      "Category      878049 non-null object\n",
      "Descript      878049 non-null object\n",
      "DayOfWeek     878049 non-null object\n",
      "PdDistrict    878049 non-null object\n",
      "Resolution    878049 non-null object\n",
      "Address       878049 non-null object\n",
      "X             878049 non-null float64\n",
      "Y             878049 non-null float64\n",
      "dtypes: datetime64[ns](1), float64(2), object(6)\n",
      "memory usage: 60.3+ MB\n"
     ]
    }
   ],
   "source": [
    "train.info()"
   ]
  },
  {
   "cell_type": "markdown",
   "metadata": {},
   "source": [
    "년, 월, 일, 시간 순으로 dataframe에 저장해줍니다."
   ]
  },
  {
   "cell_type": "code",
   "execution_count": 22,
   "metadata": {},
   "outputs": [],
   "source": [
    "train['Year'] = train['Dates'].dt.year\n",
    "train['Month'] = train['Dates'].dt.month\n",
    "train['Day'] = train['Dates'].dt.day\n",
    "train['Hour'] = train['Dates'].dt.hour"
   ]
  },
  {
   "cell_type": "code",
   "execution_count": 23,
   "metadata": {},
   "outputs": [],
   "source": [
    "test['Year'] = test['Dates'].dt.year\n",
    "test['Month'] = test['Dates'].dt.month\n",
    "test['Day'] = test['Dates'].dt.day\n",
    "test['Hour'] = test['Dates'].dt.hour"
   ]
  },
  {
   "cell_type": "markdown",
   "metadata": {},
   "source": [
    "## Convert Numeric Variables to Categorical Variables"
   ]
  },
  {
   "cell_type": "code",
   "execution_count": 24,
   "metadata": {},
   "outputs": [],
   "source": [
    "X_bins = [-123, -122.5, -122.48, -122.46, -122.44, -122.43, -122.42, -122.41, -122.40, -122.38, -122.36, -120]\n",
    "Y_bins = [37, 37.72, 37.74, 37.76, 37.77, 37.78, 37.80, 37.82, 91]\n",
    "X_labels = [1, 2, 3 ,4 ,5, 6, 7, 8, 9, 10, 11]\n",
    "Y_labels = [1, 2, 3 ,4 ,5, 6, 7, 8]\n",
    "\n",
    "train_X_cats = pd.cut(train.X, X_bins, labels=X_labels)\n",
    "train_Y_cats = pd.cut(train.Y, Y_bins, labels=Y_labels)\n",
    "\n",
    "test_X_cats = pd.cut(test.X, X_bins, labels=X_labels)\n",
    "test_Y_cats = pd.cut(test.Y, Y_bins, labels=Y_labels)"
   ]
  },
  {
   "cell_type": "code",
   "execution_count": 25,
   "metadata": {},
   "outputs": [],
   "source": [
    "train['X_cats'] = train_X_cats\n",
    "train['Y_cats'] = train_Y_cats\n",
    "test['X_cats'] = test_X_cats\n",
    "test['Y_cats'] = test_Y_cats"
   ]
  },
  {
   "cell_type": "code",
   "execution_count": 26,
   "metadata": {},
   "outputs": [
    {
     "data": {
      "text/html": [
       "<div>\n",
       "<style scoped>\n",
       "    .dataframe tbody tr th:only-of-type {\n",
       "        vertical-align: middle;\n",
       "    }\n",
       "\n",
       "    .dataframe tbody tr th {\n",
       "        vertical-align: top;\n",
       "    }\n",
       "\n",
       "    .dataframe thead th {\n",
       "        text-align: right;\n",
       "    }\n",
       "</style>\n",
       "<table border=\"1\" class=\"dataframe\">\n",
       "  <thead>\n",
       "    <tr style=\"text-align: right;\">\n",
       "      <th></th>\n",
       "      <th>Id</th>\n",
       "      <th>Dates</th>\n",
       "      <th>DayOfWeek</th>\n",
       "      <th>PdDistrict</th>\n",
       "      <th>Address</th>\n",
       "      <th>X</th>\n",
       "      <th>Y</th>\n",
       "      <th>Year</th>\n",
       "      <th>Month</th>\n",
       "      <th>Day</th>\n",
       "      <th>Hour</th>\n",
       "      <th>X_cats</th>\n",
       "      <th>Y_cats</th>\n",
       "    </tr>\n",
       "  </thead>\n",
       "  <tbody>\n",
       "    <tr>\n",
       "      <th>0</th>\n",
       "      <td>0</td>\n",
       "      <td>2015-05-10 23:59:00</td>\n",
       "      <td>Sunday</td>\n",
       "      <td>BAYVIEW</td>\n",
       "      <td>2000 Block of THOMAS AV</td>\n",
       "      <td>-122.399588</td>\n",
       "      <td>37.735051</td>\n",
       "      <td>2015</td>\n",
       "      <td>5</td>\n",
       "      <td>10</td>\n",
       "      <td>23</td>\n",
       "      <td>9</td>\n",
       "      <td>2</td>\n",
       "    </tr>\n",
       "    <tr>\n",
       "      <th>1</th>\n",
       "      <td>1</td>\n",
       "      <td>2015-05-10 23:51:00</td>\n",
       "      <td>Sunday</td>\n",
       "      <td>BAYVIEW</td>\n",
       "      <td>3RD ST / REVERE AV</td>\n",
       "      <td>-122.391523</td>\n",
       "      <td>37.732432</td>\n",
       "      <td>2015</td>\n",
       "      <td>5</td>\n",
       "      <td>10</td>\n",
       "      <td>23</td>\n",
       "      <td>9</td>\n",
       "      <td>2</td>\n",
       "    </tr>\n",
       "    <tr>\n",
       "      <th>2</th>\n",
       "      <td>2</td>\n",
       "      <td>2015-05-10 23:50:00</td>\n",
       "      <td>Sunday</td>\n",
       "      <td>NORTHERN</td>\n",
       "      <td>2000 Block of GOUGH ST</td>\n",
       "      <td>-122.426002</td>\n",
       "      <td>37.792212</td>\n",
       "      <td>2015</td>\n",
       "      <td>5</td>\n",
       "      <td>10</td>\n",
       "      <td>23</td>\n",
       "      <td>6</td>\n",
       "      <td>6</td>\n",
       "    </tr>\n",
       "    <tr>\n",
       "      <th>3</th>\n",
       "      <td>3</td>\n",
       "      <td>2015-05-10 23:45:00</td>\n",
       "      <td>Sunday</td>\n",
       "      <td>INGLESIDE</td>\n",
       "      <td>4700 Block of MISSION ST</td>\n",
       "      <td>-122.437394</td>\n",
       "      <td>37.721412</td>\n",
       "      <td>2015</td>\n",
       "      <td>5</td>\n",
       "      <td>10</td>\n",
       "      <td>23</td>\n",
       "      <td>5</td>\n",
       "      <td>2</td>\n",
       "    </tr>\n",
       "    <tr>\n",
       "      <th>4</th>\n",
       "      <td>4</td>\n",
       "      <td>2015-05-10 23:45:00</td>\n",
       "      <td>Sunday</td>\n",
       "      <td>INGLESIDE</td>\n",
       "      <td>4700 Block of MISSION ST</td>\n",
       "      <td>-122.437394</td>\n",
       "      <td>37.721412</td>\n",
       "      <td>2015</td>\n",
       "      <td>5</td>\n",
       "      <td>10</td>\n",
       "      <td>23</td>\n",
       "      <td>5</td>\n",
       "      <td>2</td>\n",
       "    </tr>\n",
       "  </tbody>\n",
       "</table>\n",
       "</div>"
      ],
      "text/plain": [
       "   Id               Dates DayOfWeek PdDistrict                   Address  \\\n",
       "0   0 2015-05-10 23:59:00    Sunday    BAYVIEW   2000 Block of THOMAS AV   \n",
       "1   1 2015-05-10 23:51:00    Sunday    BAYVIEW        3RD ST / REVERE AV   \n",
       "2   2 2015-05-10 23:50:00    Sunday   NORTHERN    2000 Block of GOUGH ST   \n",
       "3   3 2015-05-10 23:45:00    Sunday  INGLESIDE  4700 Block of MISSION ST   \n",
       "4   4 2015-05-10 23:45:00    Sunday  INGLESIDE  4700 Block of MISSION ST   \n",
       "\n",
       "            X          Y  Year  Month  Day  Hour X_cats Y_cats  \n",
       "0 -122.399588  37.735051  2015      5   10    23      9      2  \n",
       "1 -122.391523  37.732432  2015      5   10    23      9      2  \n",
       "2 -122.426002  37.792212  2015      5   10    23      6      6  \n",
       "3 -122.437394  37.721412  2015      5   10    23      5      2  \n",
       "4 -122.437394  37.721412  2015      5   10    23      5      2  "
      ]
     },
     "execution_count": 26,
     "metadata": {},
     "output_type": "execute_result"
    }
   ],
   "source": [
    "test.head()"
   ]
  },
  {
   "cell_type": "code",
   "execution_count": 27,
   "metadata": {
    "scrolled": false
   },
   "outputs": [
    {
     "name": "stdout",
     "output_type": "stream",
     "text": [
      "<class 'pandas.core.frame.DataFrame'>\n",
      "RangeIndex: 878049 entries, 0 to 878048\n",
      "Data columns (total 15 columns):\n",
      "Dates         878049 non-null datetime64[ns]\n",
      "Category      878049 non-null object\n",
      "Descript      878049 non-null object\n",
      "DayOfWeek     878049 non-null object\n",
      "PdDistrict    878049 non-null object\n",
      "Resolution    878049 non-null object\n",
      "Address       878049 non-null object\n",
      "X             878049 non-null float64\n",
      "Y             878049 non-null float64\n",
      "Year          878049 non-null int64\n",
      "Month         878049 non-null int64\n",
      "Day           878049 non-null int64\n",
      "Hour          878049 non-null int64\n",
      "X_cats        878049 non-null category\n",
      "Y_cats        878049 non-null category\n",
      "dtypes: category(2), datetime64[ns](1), float64(2), int64(4), object(6)\n",
      "memory usage: 88.8+ MB\n"
     ]
    }
   ],
   "source": [
    "train.info()"
   ]
  },
  {
   "cell_type": "markdown",
   "metadata": {},
   "source": [
    "X_cats와 Y_cats가 Cateogry type이므로 int타입으로 바꿔줍니다."
   ]
  },
  {
   "cell_type": "code",
   "execution_count": 28,
   "metadata": {},
   "outputs": [],
   "source": [
    "train['X_cats'] = train['X_cats'].astype('int8')\n",
    "train['Y_cats'] = train['Y_cats'].astype('int8')\n",
    "test['X_cats'] = test['X_cats'].astype('int8')\n",
    "test['Y_cats'] = test['Y_cats'].astype('int8')"
   ]
  },
  {
   "cell_type": "code",
   "execution_count": 29,
   "metadata": {},
   "outputs": [
    {
     "name": "stdout",
     "output_type": "stream",
     "text": [
      "<class 'pandas.core.frame.DataFrame'>\n",
      "RangeIndex: 878049 entries, 0 to 878048\n",
      "Data columns (total 15 columns):\n",
      "Dates         878049 non-null datetime64[ns]\n",
      "Category      878049 non-null object\n",
      "Descript      878049 non-null object\n",
      "DayOfWeek     878049 non-null object\n",
      "PdDistrict    878049 non-null object\n",
      "Resolution    878049 non-null object\n",
      "Address       878049 non-null object\n",
      "X             878049 non-null float64\n",
      "Y             878049 non-null float64\n",
      "Year          878049 non-null int64\n",
      "Month         878049 non-null int64\n",
      "Day           878049 non-null int64\n",
      "Hour          878049 non-null int64\n",
      "X_cats        878049 non-null int8\n",
      "Y_cats        878049 non-null int8\n",
      "dtypes: datetime64[ns](1), float64(2), int64(4), int8(2), object(6)\n",
      "memory usage: 88.8+ MB\n"
     ]
    }
   ],
   "source": [
    "train.info()"
   ]
  },
  {
   "cell_type": "markdown",
   "metadata": {},
   "source": [
    "## Label Encoding"
   ]
  },
  {
   "cell_type": "code",
   "execution_count": 30,
   "metadata": {},
   "outputs": [],
   "source": [
    "# Catergory Encoding\n",
    "cat_encoder = LabelEncoder()\n",
    "train['Category_encoded'] = cat_encoder.fit_transform(train['Category'])"
   ]
  },
  {
   "cell_type": "code",
   "execution_count": 31,
   "metadata": {},
   "outputs": [],
   "source": [
    "# DayOfWeek Encoding\n",
    "day_encoder = LabelEncoder()\n",
    "train['DayOfWeek_encoded'] = day_encoder.fit_transform(train['DayOfWeek'])\n",
    "test['DayOfWeek_encoded'] = day_encoder.fit_transform(test['DayOfWeek'])"
   ]
  },
  {
   "cell_type": "code",
   "execution_count": 32,
   "metadata": {},
   "outputs": [],
   "source": [
    "# Descript Encoding\n",
    "descript_encoder = LabelEncoder()\n",
    "train['Descript_encoded'] = descript_encoder.fit_transform(train['Descript'])"
   ]
  },
  {
   "cell_type": "code",
   "execution_count": 33,
   "metadata": {},
   "outputs": [],
   "source": [
    "# PdDistrict Encoding\n",
    "pdDistrict_encoder = LabelEncoder()\n",
    "train['PdDistrict_encoded'] = pdDistrict_encoder.fit_transform(train['PdDistrict'])\n",
    "test['PdDistrict_encoded'] = pdDistrict_encoder.fit_transform(test['PdDistrict'])"
   ]
  },
  {
   "cell_type": "code",
   "execution_count": 34,
   "metadata": {},
   "outputs": [],
   "source": [
    "# Address Encoding\n",
    "address_encoder = LabelEncoder()\n",
    "train['Address_encoded'] = address_encoder.fit_transform(train['Address'])\n",
    "test['Address_encoded'] = address_encoder.fit_transform(test['Address'])"
   ]
  },
  {
   "cell_type": "code",
   "execution_count": 35,
   "metadata": {},
   "outputs": [
    {
     "data": {
      "text/html": [
       "<div>\n",
       "<style scoped>\n",
       "    .dataframe tbody tr th:only-of-type {\n",
       "        vertical-align: middle;\n",
       "    }\n",
       "\n",
       "    .dataframe tbody tr th {\n",
       "        vertical-align: top;\n",
       "    }\n",
       "\n",
       "    .dataframe thead th {\n",
       "        text-align: right;\n",
       "    }\n",
       "</style>\n",
       "<table border=\"1\" class=\"dataframe\">\n",
       "  <thead>\n",
       "    <tr style=\"text-align: right;\">\n",
       "      <th></th>\n",
       "      <th>Dates</th>\n",
       "      <th>Category</th>\n",
       "      <th>Descript</th>\n",
       "      <th>DayOfWeek</th>\n",
       "      <th>PdDistrict</th>\n",
       "      <th>Resolution</th>\n",
       "      <th>Address</th>\n",
       "      <th>X</th>\n",
       "      <th>Y</th>\n",
       "      <th>Year</th>\n",
       "      <th>Month</th>\n",
       "      <th>Day</th>\n",
       "      <th>Hour</th>\n",
       "      <th>X_cats</th>\n",
       "      <th>Y_cats</th>\n",
       "      <th>Category_encoded</th>\n",
       "      <th>DayOfWeek_encoded</th>\n",
       "      <th>Descript_encoded</th>\n",
       "      <th>PdDistrict_encoded</th>\n",
       "      <th>Address_encoded</th>\n",
       "    </tr>\n",
       "  </thead>\n",
       "  <tbody>\n",
       "    <tr>\n",
       "      <th>0</th>\n",
       "      <td>2015-05-13 23:53:00</td>\n",
       "      <td>WARRANTS</td>\n",
       "      <td>WARRANT ARREST</td>\n",
       "      <td>Wednesday</td>\n",
       "      <td>NORTHERN</td>\n",
       "      <td>ARREST, BOOKED</td>\n",
       "      <td>OAK ST / LAGUNA ST</td>\n",
       "      <td>-122.425892</td>\n",
       "      <td>37.774599</td>\n",
       "      <td>2015</td>\n",
       "      <td>5</td>\n",
       "      <td>13</td>\n",
       "      <td>23</td>\n",
       "      <td>6</td>\n",
       "      <td>5</td>\n",
       "      <td>37</td>\n",
       "      <td>6</td>\n",
       "      <td>866</td>\n",
       "      <td>4</td>\n",
       "      <td>19790</td>\n",
       "    </tr>\n",
       "  </tbody>\n",
       "</table>\n",
       "</div>"
      ],
      "text/plain": [
       "                Dates  Category        Descript  DayOfWeek PdDistrict  \\\n",
       "0 2015-05-13 23:53:00  WARRANTS  WARRANT ARREST  Wednesday   NORTHERN   \n",
       "\n",
       "       Resolution             Address           X          Y  Year  Month  \\\n",
       "0  ARREST, BOOKED  OAK ST / LAGUNA ST -122.425892  37.774599  2015      5   \n",
       "\n",
       "   Day  Hour  X_cats  Y_cats  Category_encoded  DayOfWeek_encoded  \\\n",
       "0   13    23       6       5                37                  6   \n",
       "\n",
       "   Descript_encoded  PdDistrict_encoded  Address_encoded  \n",
       "0               866                   4            19790  "
      ]
     },
     "execution_count": 35,
     "metadata": {},
     "output_type": "execute_result"
    }
   ],
   "source": [
    "train.head(1)"
   ]
  },
  {
   "cell_type": "code",
   "execution_count": 36,
   "metadata": {
    "scrolled": true
   },
   "outputs": [
    {
     "data": {
      "text/html": [
       "<div>\n",
       "<style scoped>\n",
       "    .dataframe tbody tr th:only-of-type {\n",
       "        vertical-align: middle;\n",
       "    }\n",
       "\n",
       "    .dataframe tbody tr th {\n",
       "        vertical-align: top;\n",
       "    }\n",
       "\n",
       "    .dataframe thead th {\n",
       "        text-align: right;\n",
       "    }\n",
       "</style>\n",
       "<table border=\"1\" class=\"dataframe\">\n",
       "  <thead>\n",
       "    <tr style=\"text-align: right;\">\n",
       "      <th></th>\n",
       "      <th>Id</th>\n",
       "      <th>Dates</th>\n",
       "      <th>DayOfWeek</th>\n",
       "      <th>PdDistrict</th>\n",
       "      <th>Address</th>\n",
       "      <th>X</th>\n",
       "      <th>Y</th>\n",
       "      <th>Year</th>\n",
       "      <th>Month</th>\n",
       "      <th>Day</th>\n",
       "      <th>Hour</th>\n",
       "      <th>X_cats</th>\n",
       "      <th>Y_cats</th>\n",
       "      <th>DayOfWeek_encoded</th>\n",
       "      <th>PdDistrict_encoded</th>\n",
       "      <th>Address_encoded</th>\n",
       "    </tr>\n",
       "  </thead>\n",
       "  <tbody>\n",
       "    <tr>\n",
       "      <th>0</th>\n",
       "      <td>0</td>\n",
       "      <td>2015-05-10 23:59:00</td>\n",
       "      <td>Sunday</td>\n",
       "      <td>BAYVIEW</td>\n",
       "      <td>2000 Block of THOMAS AV</td>\n",
       "      <td>-122.399588</td>\n",
       "      <td>37.735051</td>\n",
       "      <td>2015</td>\n",
       "      <td>5</td>\n",
       "      <td>10</td>\n",
       "      <td>23</td>\n",
       "      <td>9</td>\n",
       "      <td>2</td>\n",
       "      <td>3</td>\n",
       "      <td>0</td>\n",
       "      <td>6407</td>\n",
       "    </tr>\n",
       "  </tbody>\n",
       "</table>\n",
       "</div>"
      ],
      "text/plain": [
       "   Id               Dates DayOfWeek PdDistrict                  Address  \\\n",
       "0   0 2015-05-10 23:59:00    Sunday    BAYVIEW  2000 Block of THOMAS AV   \n",
       "\n",
       "            X          Y  Year  Month  Day  Hour  X_cats  Y_cats  \\\n",
       "0 -122.399588  37.735051  2015      5   10    23       9       2   \n",
       "\n",
       "   DayOfWeek_encoded  PdDistrict_encoded  Address_encoded  \n",
       "0                  3                   0             6407  "
      ]
     },
     "execution_count": 36,
     "metadata": {},
     "output_type": "execute_result"
    }
   ],
   "source": [
    "test.head(1)"
   ]
  },
  {
   "cell_type": "markdown",
   "metadata": {},
   "source": [
    "## Modeling"
   ]
  },
  {
   "cell_type": "code",
   "execution_count": 40,
   "metadata": {},
   "outputs": [],
   "source": [
    "X = train[['Year', 'Month', 'Hour', 'X_cats', 'Y_cats', 'DayOfWeek_encoded', 'PdDistrict_encoded', 'Address_encoded']]\n",
    "y = train['Category_encoded']\n",
    "X_train, X_valid, y_train, y_valid = train_test_split(X, y, test_size=0.3, random_state=42)"
   ]
  },
  {
   "cell_type": "code",
   "execution_count": null,
   "metadata": {},
   "outputs": [
    {
     "name": "stdout",
     "output_type": "stream",
     "text": [
      "[0]\tvalidation_0-merror:0.767426\tvalidation_1-merror:0.765317\n",
      "Multiple eval metrics have been passed: 'validation_1-merror' will be used for early stopping.\n",
      "\n",
      "Will train until validation_1-merror hasn't improved in 10 rounds.\n",
      "[1]\tvalidation_0-merror:0.765942\tvalidation_1-merror:0.764729\n",
      "[2]\tvalidation_0-merror:0.765473\tvalidation_1-merror:0.764083\n",
      "[3]\tvalidation_0-merror:0.763884\tvalidation_1-merror:0.762591\n",
      "[4]\tvalidation_0-merror:0.762351\tvalidation_1-merror:0.761399\n",
      "[5]\tvalidation_0-merror:0.761998\tvalidation_1-merror:0.760925\n",
      "[6]\tvalidation_0-merror:0.761741\tvalidation_1-merror:0.760803\n",
      "[7]\tvalidation_0-merror:0.761369\tvalidation_1-merror:0.760708\n",
      "[8]\tvalidation_0-merror:0.760519\tvalidation_1-merror:0.759513\n",
      "[9]\tvalidation_0-merror:0.760433\tvalidation_1-merror:0.759615\n",
      "[10]\tvalidation_0-merror:0.759818\tvalidation_1-merror:0.758928\n",
      "[11]\tvalidation_0-merror:0.759958\tvalidation_1-merror:0.758913\n",
      "[12]\tvalidation_0-merror:0.759826\tvalidation_1-merror:0.758605\n",
      "[13]\tvalidation_0-merror:0.759782\tvalidation_1-merror:0.758529\n",
      "[14]\tvalidation_0-merror:0.759377\tvalidation_1-merror:0.758214\n",
      "[15]\tvalidation_0-merror:0.758788\tvalidation_1-merror:0.757713\n",
      "[16]\tvalidation_0-merror:0.758715\tvalidation_1-merror:0.757728\n",
      "[17]\tvalidation_0-merror:0.758643\tvalidation_1-merror:0.757614\n",
      "[18]\tvalidation_0-merror:0.758354\tvalidation_1-merror:0.757254\n",
      "[19]\tvalidation_0-merror:0.758463\tvalidation_1-merror:0.75722\n",
      "[20]\tvalidation_0-merror:0.758502\tvalidation_1-merror:0.757375\n",
      "[21]\tvalidation_0-merror:0.758324\tvalidation_1-merror:0.757269\n",
      "[22]\tvalidation_0-merror:0.758132\tvalidation_1-merror:0.756916\n",
      "[23]\tvalidation_0-merror:0.756356\tvalidation_1-merror:0.755048\n",
      "[24]\tvalidation_0-merror:0.756074\tvalidation_1-merror:0.754911\n",
      "[25]\tvalidation_0-merror:0.755889\tvalidation_1-merror:0.754782\n",
      "[26]\tvalidation_0-merror:0.755788\tvalidation_1-merror:0.754498\n",
      "[27]\tvalidation_0-merror:0.755744\tvalidation_1-merror:0.754566\n",
      "[28]\tvalidation_0-merror:0.755541\tvalidation_1-merror:0.754513\n",
      "[29]\tvalidation_0-merror:0.754851\tvalidation_1-merror:0.754069\n",
      "[30]\tvalidation_0-merror:0.754517\tvalidation_1-merror:0.753708\n",
      "[31]\tvalidation_0-merror:0.754119\tvalidation_1-merror:0.753363\n",
      "[32]\tvalidation_0-merror:0.753998\tvalidation_1-merror:0.753241\n",
      "[33]\tvalidation_0-merror:0.753814\tvalidation_1-merror:0.753051\n",
      "[34]\tvalidation_0-merror:0.75364\tvalidation_1-merror:0.752991\n",
      "[35]\tvalidation_0-merror:0.753543\tvalidation_1-merror:0.752994\n",
      "[36]\tvalidation_0-merror:0.753426\tvalidation_1-merror:0.752975\n",
      "[37]\tvalidation_0-merror:0.75324\tvalidation_1-merror:0.752801\n",
      "[38]\tvalidation_0-merror:0.75318\tvalidation_1-merror:0.752672\n",
      "[39]\tvalidation_0-merror:0.753081\tvalidation_1-merror:0.752664\n",
      "[40]\tvalidation_0-merror:0.752988\tvalidation_1-merror:0.752539\n",
      "[41]\tvalidation_0-merror:0.752889\tvalidation_1-merror:0.752467\n",
      "[42]\tvalidation_0-merror:0.752814\tvalidation_1-merror:0.752269\n",
      "[43]\tvalidation_0-merror:0.752789\tvalidation_1-merror:0.752243\n",
      "[44]\tvalidation_0-merror:0.752676\tvalidation_1-merror:0.752376\n",
      "[45]\tvalidation_0-merror:0.752615\tvalidation_1-merror:0.752368\n",
      "[46]\tvalidation_0-merror:0.752549\tvalidation_1-merror:0.75225\n",
      "[47]\tvalidation_0-merror:0.752456\tvalidation_1-merror:0.752349\n",
      "[48]\tvalidation_0-merror:0.752386\tvalidation_1-merror:0.752163\n",
      "[49]\tvalidation_0-merror:0.752275\tvalidation_1-merror:0.752102\n",
      "[50]\tvalidation_0-merror:0.752069\tvalidation_1-merror:0.752011\n",
      "[51]\tvalidation_0-merror:0.752048\tvalidation_1-merror:0.751817\n",
      "[52]\tvalidation_0-merror:0.751948\tvalidation_1-merror:0.751673\n",
      "[53]\tvalidation_0-merror:0.751817\tvalidation_1-merror:0.751556\n",
      "[54]\tvalidation_0-merror:0.751379\tvalidation_1-merror:0.751225\n",
      "[55]\tvalidation_0-merror:0.751358\tvalidation_1-merror:0.751028\n",
      "[56]\tvalidation_0-merror:0.751385\tvalidation_1-merror:0.751073\n",
      "[57]\tvalidation_0-merror:0.751006\tvalidation_1-merror:0.750736\n",
      "[58]\tvalidation_0-merror:0.750809\tvalidation_1-merror:0.750569\n",
      "[59]\tvalidation_0-merror:0.750873\tvalidation_1-merror:0.750504\n",
      "[60]\tvalidation_0-merror:0.750798\tvalidation_1-merror:0.750398\n",
      "[61]\tvalidation_0-merror:0.75073\tvalidation_1-merror:0.750424\n",
      "[62]\tvalidation_0-merror:0.750694\tvalidation_1-merror:0.750329\n",
      "[63]\tvalidation_0-merror:0.750551\tvalidation_1-merror:0.750227\n",
      "[64]\tvalidation_0-merror:0.750523\tvalidation_1-merror:0.75009\n",
      "[65]\tvalidation_0-merror:0.750448\tvalidation_1-merror:0.750052\n",
      "[66]\tvalidation_0-merror:0.750347\tvalidation_1-merror:0.74995\n",
      "[67]\tvalidation_0-merror:0.750238\tvalidation_1-merror:0.749927\n",
      "[68]\tvalidation_0-merror:0.750207\tvalidation_1-merror:0.749843\n",
      "[69]\tvalidation_0-merror:0.75016\tvalidation_1-merror:0.749752\n",
      "[70]\tvalidation_0-merror:0.750142\tvalidation_1-merror:0.749604\n",
      "[71]\tvalidation_0-merror:0.750076\tvalidation_1-merror:0.749468\n",
      "[72]\tvalidation_0-merror:0.750046\tvalidation_1-merror:0.749487\n",
      "[73]\tvalidation_0-merror:0.750024\tvalidation_1-merror:0.74949\n",
      "[74]\tvalidation_0-merror:0.749978\tvalidation_1-merror:0.749403\n",
      "[75]\tvalidation_0-merror:0.749963\tvalidation_1-merror:0.749247\n",
      "[76]\tvalidation_0-merror:0.749973\tvalidation_1-merror:0.749251\n",
      "[77]\tvalidation_0-merror:0.749781\tvalidation_1-merror:0.749126\n",
      "[78]\tvalidation_0-merror:0.749776\tvalidation_1-merror:0.749077\n",
      "[79]\tvalidation_0-merror:0.7497\tvalidation_1-merror:0.749004\n",
      "[80]\tvalidation_0-merror:0.749581\tvalidation_1-merror:0.748742\n",
      "[81]\tvalidation_0-merror:0.7495\tvalidation_1-merror:0.748701\n",
      "[82]\tvalidation_0-merror:0.749389\tvalidation_1-merror:0.748515\n",
      "[83]\tvalidation_0-merror:0.74929\tvalidation_1-merror:0.748462\n",
      "[84]\tvalidation_0-merror:0.749252\tvalidation_1-merror:0.748458\n",
      "[85]\tvalidation_0-merror:0.749142\tvalidation_1-merror:0.748313\n",
      "[86]\tvalidation_0-merror:0.749139\tvalidation_1-merror:0.748257\n",
      "[87]\tvalidation_0-merror:0.749093\tvalidation_1-merror:0.748336\n",
      "[88]\tvalidation_0-merror:0.748999\tvalidation_1-merror:0.748276\n",
      "[89]\tvalidation_0-merror:0.74886\tvalidation_1-merror:0.748192\n",
      "[90]\tvalidation_0-merror:0.748821\tvalidation_1-merror:0.748169\n",
      "[91]\tvalidation_0-merror:0.748789\tvalidation_1-merror:0.748124\n",
      "[92]\tvalidation_0-merror:0.748662\tvalidation_1-merror:0.748033\n",
      "[93]\tvalidation_0-merror:0.748574\tvalidation_1-merror:0.747881\n",
      "[94]\tvalidation_0-merror:0.748567\tvalidation_1-merror:0.74785\n",
      "[95]\tvalidation_0-merror:0.748556\tvalidation_1-merror:0.747892\n",
      "[96]\tvalidation_0-merror:0.748266\tvalidation_1-merror:0.747581\n",
      "[97]\tvalidation_0-merror:0.748169\tvalidation_1-merror:0.74744\n",
      "[98]\tvalidation_0-merror:0.748101\tvalidation_1-merror:0.747459\n",
      "[99]\tvalidation_0-merror:0.748102\tvalidation_1-merror:0.747391\n",
      "[100]\tvalidation_0-merror:0.747992\tvalidation_1-merror:0.747171\n",
      "[101]\tvalidation_0-merror:0.747975\tvalidation_1-merror:0.74711\n",
      "[102]\tvalidation_0-merror:0.747813\tvalidation_1-merror:0.746989\n",
      "[103]\tvalidation_0-merror:0.747681\tvalidation_1-merror:0.746753\n",
      "[104]\tvalidation_0-merror:0.747664\tvalidation_1-merror:0.746681\n",
      "[105]\tvalidation_0-merror:0.747372\tvalidation_1-merror:0.746431\n",
      "[106]\tvalidation_0-merror:0.747219\tvalidation_1-merror:0.746358\n",
      "[107]\tvalidation_0-merror:0.747123\tvalidation_1-merror:0.746241\n",
      "[108]\tvalidation_0-merror:0.7466\tvalidation_1-merror:0.74566\n",
      "[109]\tvalidation_0-merror:0.74648\tvalidation_1-merror:0.745557\n",
      "[110]\tvalidation_0-merror:0.746364\tvalidation_1-merror:0.745417\n",
      "[111]\tvalidation_0-merror:0.746252\tvalidation_1-merror:0.745238\n",
      "[112]\tvalidation_0-merror:0.746182\tvalidation_1-merror:0.745147\n",
      "[113]\tvalidation_0-merror:0.746055\tvalidation_1-merror:0.745026\n",
      "[114]\tvalidation_0-merror:0.745974\tvalidation_1-merror:0.744878\n",
      "[115]\tvalidation_0-merror:0.745845\tvalidation_1-merror:0.744654\n",
      "[116]\tvalidation_0-merror:0.7458\tvalidation_1-merror:0.744623\n",
      "[117]\tvalidation_0-merror:0.745771\tvalidation_1-merror:0.744673\n",
      "[118]\tvalidation_0-merror:0.745627\tvalidation_1-merror:0.744441\n",
      "[119]\tvalidation_0-merror:0.745554\tvalidation_1-merror:0.744403\n",
      "[120]\tvalidation_0-merror:0.745445\tvalidation_1-merror:0.744263\n",
      "[121]\tvalidation_0-merror:0.745291\tvalidation_1-merror:0.744191\n",
      "[122]\tvalidation_0-merror:0.745097\tvalidation_1-merror:0.74399\n",
      "[123]\tvalidation_0-merror:0.74505\tvalidation_1-merror:0.74402\n",
      "[124]\tvalidation_0-merror:0.744908\tvalidation_1-merror:0.743902\n",
      "[125]\tvalidation_0-merror:0.744788\tvalidation_1-merror:0.743788\n",
      "[126]\tvalidation_0-merror:0.744739\tvalidation_1-merror:0.743682\n",
      "[127]\tvalidation_0-merror:0.744594\tvalidation_1-merror:0.743545\n"
     ]
    },
    {
     "name": "stdout",
     "output_type": "stream",
     "text": [
      "[128]\tvalidation_0-merror:0.744498\tvalidation_1-merror:0.743367\n",
      "[129]\tvalidation_0-merror:0.744357\tvalidation_1-merror:0.743253\n",
      "[130]\tvalidation_0-merror:0.744305\tvalidation_1-merror:0.743283\n",
      "[131]\tvalidation_0-merror:0.744279\tvalidation_1-merror:0.743105\n",
      "[132]\tvalidation_0-merror:0.744096\tvalidation_1-merror:0.742934\n",
      "[133]\tvalidation_0-merror:0.744077\tvalidation_1-merror:0.7429\n",
      "[134]\tvalidation_0-merror:0.74397\tvalidation_1-merror:0.742847\n",
      "[135]\tvalidation_0-merror:0.743882\tvalidation_1-merror:0.742741\n",
      "[136]\tvalidation_0-merror:0.743778\tvalidation_1-merror:0.742722\n",
      "[137]\tvalidation_0-merror:0.743628\tvalidation_1-merror:0.74268\n",
      "[138]\tvalidation_0-merror:0.743553\tvalidation_1-merror:0.74257\n",
      "[139]\tvalidation_0-merror:0.743509\tvalidation_1-merror:0.742433\n",
      "[140]\tvalidation_0-merror:0.743462\tvalidation_1-merror:0.742369\n",
      "[141]\tvalidation_0-merror:0.743359\tvalidation_1-merror:0.742338\n",
      "[142]\tvalidation_0-merror:0.743088\tvalidation_1-merror:0.742061\n",
      "[143]\tvalidation_0-merror:0.742907\tvalidation_1-merror:0.741898\n",
      "[144]\tvalidation_0-merror:0.742936\tvalidation_1-merror:0.741974\n",
      "[145]\tvalidation_0-merror:0.74288\tvalidation_1-merror:0.741909\n",
      "[146]\tvalidation_0-merror:0.742805\tvalidation_1-merror:0.741822\n",
      "[147]\tvalidation_0-merror:0.742653\tvalidation_1-merror:0.741712\n",
      "[148]\tvalidation_0-merror:0.742492\tvalidation_1-merror:0.741575\n",
      "[149]\tvalidation_0-merror:0.742338\tvalidation_1-merror:0.741385\n",
      "[150]\tvalidation_0-merror:0.742227\tvalidation_1-merror:0.741347\n",
      "[151]\tvalidation_0-merror:0.742227\tvalidation_1-merror:0.741309\n",
      "[152]\tvalidation_0-merror:0.742152\tvalidation_1-merror:0.74112\n",
      "[153]\tvalidation_0-merror:0.742007\tvalidation_1-merror:0.741051\n",
      "[154]\tvalidation_0-merror:0.741918\tvalidation_1-merror:0.741002\n",
      "[155]\tvalidation_0-merror:0.741838\tvalidation_1-merror:0.740789\n",
      "[156]\tvalidation_0-merror:0.741763\tvalidation_1-merror:0.740812\n",
      "[157]\tvalidation_0-merror:0.741627\tvalidation_1-merror:0.740675\n",
      "[158]\tvalidation_0-merror:0.741519\tvalidation_1-merror:0.740611\n",
      "[159]\tvalidation_0-merror:0.741503\tvalidation_1-merror:0.740508\n",
      "[160]\tvalidation_0-merror:0.741417\tvalidation_1-merror:0.740413\n",
      "[161]\tvalidation_0-merror:0.741352\tvalidation_1-merror:0.740356\n",
      "[162]\tvalidation_0-merror:0.741285\tvalidation_1-merror:0.740292\n",
      "[163]\tvalidation_0-merror:0.741269\tvalidation_1-merror:0.740322\n",
      "[164]\tvalidation_0-merror:0.741179\tvalidation_1-merror:0.740262\n",
      "[165]\tvalidation_0-merror:0.741145\tvalidation_1-merror:0.740246\n",
      "[166]\tvalidation_0-merror:0.741056\tvalidation_1-merror:0.740159\n",
      "[167]\tvalidation_0-merror:0.74093\tvalidation_1-merror:0.739981\n",
      "[168]\tvalidation_0-merror:0.740904\tvalidation_1-merror:0.740064\n",
      "[169]\tvalidation_0-merror:0.740878\tvalidation_1-merror:0.740026\n",
      "[170]\tvalidation_0-merror:0.740795\tvalidation_1-merror:0.740003\n",
      "[171]\tvalidation_0-merror:0.740729\tvalidation_1-merror:0.739901\n",
      "[172]\tvalidation_0-merror:0.74068\tvalidation_1-merror:0.739745\n",
      "[173]\tvalidation_0-merror:0.740576\tvalidation_1-merror:0.739745\n",
      "[174]\tvalidation_0-merror:0.740529\tvalidation_1-merror:0.739673\n",
      "[175]\tvalidation_0-merror:0.740491\tvalidation_1-merror:0.739552\n",
      "[176]\tvalidation_0-merror:0.740407\tvalidation_1-merror:0.739628\n",
      "[177]\tvalidation_0-merror:0.740439\tvalidation_1-merror:0.739555\n",
      "[178]\tvalidation_0-merror:0.74035\tvalidation_1-merror:0.739514\n",
      "[179]\tvalidation_0-merror:0.740312\tvalidation_1-merror:0.739491\n",
      "[180]\tvalidation_0-merror:0.740229\tvalidation_1-merror:0.739415\n",
      "[181]\tvalidation_0-merror:0.740097\tvalidation_1-merror:0.739328\n",
      "[182]\tvalidation_0-merror:0.740023\tvalidation_1-merror:0.739237\n",
      "[183]\tvalidation_0-merror:0.739918\tvalidation_1-merror:0.739138\n",
      "[184]\tvalidation_0-merror:0.739837\tvalidation_1-merror:0.739237\n",
      "[185]\tvalidation_0-merror:0.739767\tvalidation_1-merror:0.739009\n",
      "[186]\tvalidation_0-merror:0.739708\tvalidation_1-merror:0.738914\n",
      "[187]\tvalidation_0-merror:0.739663\tvalidation_1-merror:0.738834\n",
      "[188]\tvalidation_0-merror:0.739634\tvalidation_1-merror:0.738766\n",
      "[189]\tvalidation_0-merror:0.739557\tvalidation_1-merror:0.738743\n",
      "[190]\tvalidation_0-merror:0.739477\tvalidation_1-merror:0.738743\n",
      "[191]\tvalidation_0-merror:0.739398\tvalidation_1-merror:0.738648\n",
      "[192]\tvalidation_0-merror:0.739386\tvalidation_1-merror:0.738587\n",
      "[193]\tvalidation_0-merror:0.739339\tvalidation_1-merror:0.738644\n",
      "[194]\tvalidation_0-merror:0.739282\tvalidation_1-merror:0.738606\n",
      "[195]\tvalidation_0-merror:0.73924\tvalidation_1-merror:0.738568\n",
      "[196]\tvalidation_0-merror:0.739194\tvalidation_1-merror:0.738489\n",
      "[197]\tvalidation_0-merror:0.73911\tvalidation_1-merror:0.738436\n",
      "[198]\tvalidation_0-merror:0.73905\tvalidation_1-merror:0.738405\n",
      "[199]\tvalidation_0-merror:0.73904\tvalidation_1-merror:0.738303\n",
      "[200]\tvalidation_0-merror:0.738976\tvalidation_1-merror:0.738291\n",
      "[201]\tvalidation_0-merror:0.738931\tvalidation_1-merror:0.738314\n",
      "[202]\tvalidation_0-merror:0.738885\tvalidation_1-merror:0.738284\n",
      "[203]\tvalidation_0-merror:0.738828\tvalidation_1-merror:0.738242\n",
      "[204]\tvalidation_0-merror:0.738724\tvalidation_1-merror:0.73825\n",
      "[205]\tvalidation_0-merror:0.738719\tvalidation_1-merror:0.738253\n",
      "[206]\tvalidation_0-merror:0.738648\tvalidation_1-merror:0.738242\n",
      "[207]\tvalidation_0-merror:0.73861\tvalidation_1-merror:0.738181\n",
      "[208]\tvalidation_0-merror:0.738581\tvalidation_1-merror:0.738086\n",
      "[209]\tvalidation_0-merror:0.73854\tvalidation_1-merror:0.738018\n",
      "[210]\tvalidation_0-merror:0.738534\tvalidation_1-merror:0.737919\n",
      "[211]\tvalidation_0-merror:0.738467\tvalidation_1-merror:0.7379\n",
      "[212]\tvalidation_0-merror:0.738339\tvalidation_1-merror:0.73779\n",
      "[213]\tvalidation_0-merror:0.738251\tvalidation_1-merror:0.737669\n",
      "[214]\tvalidation_0-merror:0.738208\tvalidation_1-merror:0.737619\n",
      "[215]\tvalidation_0-merror:0.738143\tvalidation_1-merror:0.737536\n",
      "[216]\tvalidation_0-merror:0.738055\tvalidation_1-merror:0.73743\n",
      "[217]\tvalidation_0-merror:0.738077\tvalidation_1-merror:0.737475\n",
      "[218]\tvalidation_0-merror:0.737986\tvalidation_1-merror:0.737373\n",
      "[219]\tvalidation_0-merror:0.737922\tvalidation_1-merror:0.737335\n",
      "[220]\tvalidation_0-merror:0.737904\tvalidation_1-merror:0.737259\n",
      "[221]\tvalidation_0-merror:0.737826\tvalidation_1-merror:0.737266\n",
      "[222]\tvalidation_0-merror:0.73779\tvalidation_1-merror:0.737198\n",
      "[223]\tvalidation_0-merror:0.737763\tvalidation_1-merror:0.737156\n",
      "[224]\tvalidation_0-merror:0.737683\tvalidation_1-merror:0.737061\n",
      "[225]\tvalidation_0-merror:0.737608\tvalidation_1-merror:0.737012\n",
      "[226]\tvalidation_0-merror:0.737584\tvalidation_1-merror:0.73697\n",
      "[227]\tvalidation_0-merror:0.737454\tvalidation_1-merror:0.736913\n",
      "[228]\tvalidation_0-merror:0.737462\tvalidation_1-merror:0.736837\n",
      "[229]\tvalidation_0-merror:0.737424\tvalidation_1-merror:0.73678\n",
      "[230]\tvalidation_0-merror:0.737362\tvalidation_1-merror:0.736799\n",
      "[231]\tvalidation_0-merror:0.73724\tvalidation_1-merror:0.736704\n",
      "[232]\tvalidation_0-merror:0.737222\tvalidation_1-merror:0.736727\n",
      "[233]\tvalidation_0-merror:0.737138\tvalidation_1-merror:0.736632\n",
      "[234]\tvalidation_0-merror:0.737052\tvalidation_1-merror:0.736591\n",
      "[235]\tvalidation_0-merror:0.736987\tvalidation_1-merror:0.736572\n",
      "[236]\tvalidation_0-merror:0.736941\tvalidation_1-merror:0.736515\n",
      "[237]\tvalidation_0-merror:0.736917\tvalidation_1-merror:0.736537\n",
      "[238]\tvalidation_0-merror:0.736839\tvalidation_1-merror:0.736469\n",
      "[239]\tvalidation_0-merror:0.736822\tvalidation_1-merror:0.736515\n",
      "[240]\tvalidation_0-merror:0.736751\tvalidation_1-merror:0.736443\n",
      "[241]\tvalidation_0-merror:0.736736\tvalidation_1-merror:0.73637\n",
      "[242]\tvalidation_0-merror:0.73662\tvalidation_1-merror:0.736389\n",
      "[243]\tvalidation_0-merror:0.736593\tvalidation_1-merror:0.73637\n",
      "[244]\tvalidation_0-merror:0.736534\tvalidation_1-merror:0.736329\n",
      "[245]\tvalidation_0-merror:0.736435\tvalidation_1-merror:0.736237\n",
      "[246]\tvalidation_0-merror:0.736406\tvalidation_1-merror:0.736165\n",
      "[247]\tvalidation_0-merror:0.736427\tvalidation_1-merror:0.736059\n",
      "[248]\tvalidation_0-merror:0.736367\tvalidation_1-merror:0.735991\n",
      "[249]\tvalidation_0-merror:0.736394\tvalidation_1-merror:0.735964\n",
      "[250]\tvalidation_0-merror:0.736295\tvalidation_1-merror:0.735938\n",
      "[251]\tvalidation_0-merror:0.736228\tvalidation_1-merror:0.735846\n",
      "[252]\tvalidation_0-merror:0.736225\tvalidation_1-merror:0.73582\n",
      "[253]\tvalidation_0-merror:0.736186\tvalidation_1-merror:0.735752\n",
      "[254]\tvalidation_0-merror:0.736098\tvalidation_1-merror:0.735668\n",
      "[255]\tvalidation_0-merror:0.736064\tvalidation_1-merror:0.735619\n",
      "[256]\tvalidation_0-merror:0.73602\tvalidation_1-merror:0.735573\n"
     ]
    },
    {
     "name": "stdout",
     "output_type": "stream",
     "text": [
      "[257]\tvalidation_0-merror:0.735981\tvalidation_1-merror:0.735528\n",
      "[258]\tvalidation_0-merror:0.735923\tvalidation_1-merror:0.735425\n",
      "[259]\tvalidation_0-merror:0.735973\tvalidation_1-merror:0.735391\n",
      "[260]\tvalidation_0-merror:0.735893\tvalidation_1-merror:0.735353\n",
      "[261]\tvalidation_0-merror:0.735794\tvalidation_1-merror:0.735243\n",
      "[262]\tvalidation_0-merror:0.735761\tvalidation_1-merror:0.735201\n"
     ]
    }
   ],
   "source": [
    "xgb_model = XGBClassifier(\n",
    "    min_child_weight=300,\n",
    "    n_estimators=1000,\n",
    "    seed=42)\n",
    "\n",
    "xgb_model.fit(X_train, \n",
    "              y_train, \n",
    "              eval_set=[(X_train, y_train), (X_valid, y_valid)], \n",
    "              verbose=True, \n",
    "              early_stopping_rounds=10)"
   ]
  },
  {
   "cell_type": "code",
   "execution_count": null,
   "metadata": {},
   "outputs": [],
   "source": [
    "X_test = test[['Year', 'Month', 'Hour', 'X_cats', 'Y_cats', 'DayOfWeek_encoded', 'PdDistrict_encoded', 'Address_encoded']]\n",
    "y_test = xgb_model.predict(X_test)"
   ]
  },
  {
   "cell_type": "code",
   "execution_count": null,
   "metadata": {},
   "outputs": [],
   "source": [
    "submission = pd.read_csv('./data/sampleSubmission.csv')\n",
    "submission.head(2)"
   ]
  },
  {
   "cell_type": "markdown",
   "metadata": {},
   "source": [
    "Sample Submission의 WARRANTS 열이 모두 1로 되어 있어 default인 0으로 변경해줍니다."
   ]
  },
  {
   "cell_type": "code",
   "execution_count": null,
   "metadata": {},
   "outputs": [],
   "source": [
    "submission.WARRANTS = 0\n",
    "submission.head(2)"
   ]
  },
  {
   "cell_type": "markdown",
   "metadata": {},
   "source": [
    "submission의 모든 열이 0으로 되어 있으므로, loop를 돌며 Category에 해당하면 해당 열에 1을 입력해줍니다."
   ]
  },
  {
   "cell_type": "code",
   "execution_count": null,
   "metadata": {},
   "outputs": [],
   "source": [
    "for index, row in submission.iterrows():\n",
    "    # 맨 앞에 ID가 있으므로 +1을 해야함\n",
    "    category_index = y_test[index]+1\n",
    "    row.iloc[category_index] = 1"
   ]
  },
  {
   "cell_type": "code",
   "execution_count": null,
   "metadata": {},
   "outputs": [],
   "source": [
    "submission.to_csv('submission_second.csv', index=False)"
   ]
  },
  {
   "cell_type": "code",
   "execution_count": null,
   "metadata": {},
   "outputs": [],
   "source": []
  }
 ],
 "metadata": {
  "kernelspec": {
   "display_name": "Python 3",
   "language": "python",
   "name": "python3"
  },
  "language_info": {
   "codemirror_mode": {
    "name": "ipython",
    "version": 3
   },
   "file_extension": ".py",
   "mimetype": "text/x-python",
   "name": "python",
   "nbconvert_exporter": "python",
   "pygments_lexer": "ipython3",
   "version": "3.7.3"
  }
 },
 "nbformat": 4,
 "nbformat_minor": 1
}
